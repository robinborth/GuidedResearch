{
 "cells": [
  {
   "cell_type": "code",
   "execution_count": null,
   "metadata": {},
   "outputs": [],
   "source": [
    "from lib.model.layers import MLP\n",
    "import torch\n",
    "import timeit\n",
    "\n",
    "\n",
    "device = \"cuda\"\n",
    "n = 1000\n",
    "in_dim = 400\n",
    "x = torch.randn(in_dim).to(device)\n",
    "mlp = MLP(in_dim=in_dim, out_dim=5, hidden_dim=1000, num_layers=8).to(device)\n",
    "\n",
    "\n",
    "def foo():\n",
    "    mlp(x)\n",
    "\n",
    "\n",
    "(timeit.timeit(foo, number=n) / n) * 1000  # ms"
   ]
  },
  {
   "cell_type": "code",
   "execution_count": null,
   "metadata": {},
   "outputs": [],
   "source": [
    "import torch\n",
    "from torchvision import models, transforms\n",
    "from PIL import Image\n",
    "\n",
    "# Load a pre-trained ResNet model\n",
    "model = models.resnet18(pretrained=True)\n",
    "model.eval()  # Set the model to evaluation mode\n",
    "\n",
    "# Define the transformation for the input image\n",
    "preprocess = transforms.Compose(\n",
    "    [\n",
    "        transforms.Resize(256),  # Resize the image to 256x256 pixels\n",
    "        transforms.CenterCrop(224),  # Center crop the image to 224x224 pixels\n",
    "        transforms.ToTensor(),  # Convert the image to a PyTorch tensor\n",
    "        transforms.Normalize(\n",
    "            mean=[0.485, 0.456, 0.406], std=[0.229, 0.224, 0.225]\n",
    "        ),  # Normalize the image\n",
    "    ]\n",
    ")\n",
    "\n",
    "# Load an image from file\n",
    "img_path = \"/home/borth/GuidedResearch/data/dphm_christoph_mouthmove/color/00003.png\"  # Replace with the path to your image\n",
    "image = Image.open(img_path)\n",
    "\n",
    "# Preprocess the image\n",
    "input_tensor = preprocess(image)\n",
    "input_batch = input_tensor.unsqueeze(0)  # Create a mini-batch as expected by the model\n",
    "\n",
    "# Move the input to the GPU if available\n",
    "device = torch.device(\"cuda\" if torch.cuda.is_available() else \"cpu\")\n",
    "model = model.to(device)\n",
    "input_batch = input_batch.to(device)\n",
    "\n",
    "# Perform inference\n",
    "with torch.no_grad():\n",
    "    output = model(input_batch)\n",
    "\n",
    "# The output has unnormalized scores. To get probabilities, you can apply softmax\n",
    "probabilities = torch.nn.functional.softmax(output[0], dim=0)"
   ]
  },
  {
   "cell_type": "code",
   "execution_count": null,
   "metadata": {},
   "outputs": [],
   "source": [
    "n = 100\n",
    "\n",
    "\n",
    "def foo():\n",
    "    with torch.no_grad():\n",
    "        output = model(input_batch)\n",
    "\n",
    "\n",
    "(timeit.timeit(foo, number=n) / n) * 1000  # ms"
   ]
  }
 ],
 "metadata": {
  "kernelspec": {
   "display_name": "guided",
   "language": "python",
   "name": "python3"
  },
  "language_info": {
   "codemirror_mode": {
    "name": "ipython",
    "version": 3
   },
   "file_extension": ".py",
   "mimetype": "text/x-python",
   "name": "python",
   "nbconvert_exporter": "python",
   "pygments_lexer": "ipython3",
   "version": "3.10.14"
  }
 },
 "nbformat": 4,
 "nbformat_minor": 2
}
