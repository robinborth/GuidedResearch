{
 "cells": [
  {
   "cell_type": "code",
   "execution_count": null,
   "metadata": {},
   "outputs": [],
   "source": [
    "from lib.model.flame.flame import Flame\n",
    "import torch\n",
    "from lib.data.loader import load_intrinsics\n",
    "from lib.rasterizer import Rasterizer\n",
    "from lib.renderer.renderer import Renderer\n",
    "from lib.renderer.camera import Camera\n",
    "from lib.model.weighting import ResidualWeightModule, DummyWeightModule\n",
    "from lib.model.correspondence import (\n",
    "    ProjectiveCorrespondenceModule,\n",
    "    OpticalFlowCorrespondenceModule,\n",
    ")\n",
    "from lib.data.synthetic import generate_params\n",
    "from lib.utils.visualize import visualize_grid, visualize_params\n",
    "from lib.optimizer.residuals import Point2PlaneResiduals, VertexResiduals\n",
    "from lib.optimizer.newton import GaussNewton\n",
    "from lib.model.framework import FlameOptimizer, VertexOptimizer\n",
    "from torch.utils.data import DataLoader\n",
    "from lib.optimizer.solver import PytorchSolver\n",
    "\n",
    "# settings\n",
    "data_dir = \"/home/borth/GuidedResearch/data/dphm_christoph_mouthmove\"\n",
    "flame_dir = \"/home/borth/GuidedResearch/checkpoints/flame2023\"\n",
    "device = \"cuda\" if torch.cuda.is_available() else \"cpu\"\n",
    "\n",
    "# setup camera, rasterizer and renderer\n",
    "K = load_intrinsics(data_dir=data_dir, return_tensor=\"pt\")\n",
    "camera = Camera(width=640, height=480, scale=1)\n",
    "rasterizer = Rasterizer(width=camera.width, height=camera.height)\n",
    "renderer = Renderer(rasterizer=rasterizer, camera=camera)\n",
    "\n",
    "# setup flame optimizer\n",
    "flame = Flame(\n",
    "    flame_dir=flame_dir,\n",
    "    vertices_mask=\"full\",\n",
    "    expression_params=50,\n",
    "    shape_params=100,\n",
    ")\n",
    "\n",
    "# creaste gt_params\n",
    "gt_params = generate_params(\n",
    "    flame=flame,\n",
    "    window_size=1,\n",
    "    default=dict(transl=[0.043, -0.003, -0.528]),\n",
    ")\n",
    "\n",
    "params = generate_params(\n",
    "    flame=flame,\n",
    "    window_size=1,\n",
    "    default=dict(transl=[0.053, -0.013, -0.528], global_pose=[0.01, 0.1, -0.001]),\n",
    ")\n",
    "\n",
    "# initlize params close to gt_params\n",
    "visualize_params(flame, renderer, gt_params, color=0)\n",
    "visualize_params(flame, renderer, params, color=2)"
   ]
  },
  {
   "cell_type": "code",
   "execution_count": null,
   "metadata": {},
   "outputs": [],
   "source": [
    "from lib.utils.visualize import visualize_merged,visualize_depth_merged, visualize_grid, change_color\n",
    "\n",
    "s_out = flame.render(renderer=renderer, params=params)\n",
    "t_out = flame.render(renderer=renderer, params=gt_params)\n",
    "imgs = visualize_depth_merged(\n",
    "    s_color=change_color(s_out[\"color\"], s_out[\"mask\"], code=0),\n",
    "    s_point=s_out[\"point\"],\n",
    "    s_mask=s_out[\"mask\"],\n",
    "    t_color=change_color(t_out[\"color\"], t_out[\"mask\"], code=1),\n",
    "    t_point=t_out[\"point\"],\n",
    "    t_mask=t_out[\"mask\"]\n",
    ")\n",
    "visualize_grid(imgs)"
   ]
  },
  {
   "cell_type": "code",
   "execution_count": null,
   "metadata": {},
   "outputs": [],
   "source": [
    "from collections import defaultdict\n",
    "\n",
    "\n",
    "\n",
    "def generate_params(flame: Flame, window_size: int = 1, default: dict = {}, sigmas: dict = {}):\n",
    "    # default params\n",
    "    base_params = flame.generate_default_params()\n",
    "    for p_name, param in default.items():\n",
    "        base_params[p_name] = torch.tensor([param], device=flame.device)\n",
    "\n",
    "    params = defaultdict(list)\n",
    "    for p_name in flame.global_params:\n",
    "        eps = torch.randn_like(gt_params[p_name]) * sigmas.get(p_name, 0.0)\n",
    "        params[p_name] = base_params[p_name] + eps\n",
    "    for p_name in flame.local_params:\n",
    "        for _ in range(window_size):\n",
    "            eps = torch.randn_like(base_params[p_name]) * sigmas.get(p_name, 0.0)\n",
    "            param = base_params[p_name] + eps\n",
    "            params[p_name].append(param)\n",
    "    for p_name in flame.local_params:\n",
    "        params[p_name] = torch.cat(params[p_name], dim=0)\n",
    "    return params\n",
    "\n",
    "\n",
    "params = generate_params(\n",
    "    flame,\n",
    "    window_size=4,\n",
    "    default=dict(transl=[-0.0, -0.0, -0.6]),\n",
    "    sigmas=dict(\n",
    "        shape_params=1.0,\n",
    "        expression_params=1.0,\n",
    "        global_pose=0.02,\n",
    "        neck_pose=0.05,\n",
    "        transl=0.05,\n",
    "    ),\n",
    ")\n",
    "offset = generate_params(\n",
    "    flame,\n",
    "    window_size=4,\n",
    "    sigmas=dict(\n",
    "        shape_params=5e-01,\n",
    "        expression_params=5e-01,\n",
    "        global_pose=5e-03,\n",
    "        neck_pose=5e-03,\n",
    "        transl=5e-03,\n",
    "    ),\n",
    ")\n",
    "visualize_params(flame, renderer, params, color=0)"
   ]
  },
  {
   "cell_type": "code",
   "execution_count": null,
   "metadata": {},
   "outputs": [],
   "source": [
    "new_params = {}\n",
    "for p_name in params:\n",
    "    new_params[p_name] = params[p_name] + offset[p_name]\n",
    "visualize_params(flame, renderer, new_params, color=0)"
   ]
  },
  {
   "cell_type": "code",
   "execution_count": null,
   "metadata": {},
   "outputs": [],
   "source": [
    "new_params[\"transl\"]"
   ]
  },
  {
   "cell_type": "code",
   "execution_count": null,
   "metadata": {},
   "outputs": [],
   "source": []
  },
  {
   "cell_type": "code",
   "execution_count": null,
   "metadata": {},
   "outputs": [],
   "source": [
    "def generate_offset(flame: Flame, window_size: int = 1, sigmas: dict = {}):\n",
    "    base_params = flame.generate_default_params()\n",
    "    params = defaultdict(list)\n",
    "    for p_name in flame.global_params:\n",
    "        eps = torch.randn_like(gt_params[p_name]) * sigmas.get(p_name, 0.0)\n",
    "        params[p_name] = base_params[p_name] + eps\n",
    "    for p_name in flame.local_params:\n",
    "        for _ in range(window_size):\n",
    "            eps = torch.randn_like(base_params[p_name]) * sigmas.get(p_name, 0.0)\n",
    "            param = base_params[p_name] + eps\n",
    "            params[p_name].append(param)\n",
    "    for p_name in flame.local_params:\n",
    "        params[p_name] = torch.cat(params[p_name], dim=0)\n",
    "    return params"
   ]
  },
  {
   "cell_type": "code",
   "execution_count": null,
   "metadata": {},
   "outputs": [],
   "source": [
    "gt_params[\"transl\"] = torch.tensor([[0.0, 0.0, -0.5]], device=device)"
   ]
  },
  {
   "cell_type": "code",
   "execution_count": null,
   "metadata": {},
   "outputs": [],
   "source": []
  },
  {
   "cell_type": "code",
   "execution_count": null,
   "metadata": {},
   "outputs": [],
   "source": []
  }
 ],
 "metadata": {
  "kernelspec": {
   "display_name": "guided",
   "language": "python",
   "name": "python3"
  },
  "language_info": {
   "codemirror_mode": {
    "name": "ipython",
    "version": 3
   },
   "file_extension": ".py",
   "mimetype": "text/x-python",
   "name": "python",
   "nbconvert_exporter": "python",
   "pygments_lexer": "ipython3",
   "version": "3.10.14"
  }
 },
 "nbformat": 4,
 "nbformat_minor": 2
}
