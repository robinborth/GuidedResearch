{
 "cells": [
  {
   "cell_type": "code",
   "execution_count": null,
   "metadata": {},
   "outputs": [],
   "source": [
    "import torch\n",
    "from torch.autograd.functional import jacobian\n",
    "from torch.func import jacrev, vmap, jacfwd\n",
    "from lib.trainer.timer import TimeTracker\n",
    "from lib.model.layers import MLP\n",
    "from tqdm import tqdm\n",
    "\n",
    "device = \"cuda\"\n",
    "steps = 10\n",
    "n_unknowns = 159\n",
    "n_residuals = 1135\n",
    "hidden_dim = 1000\n",
    "num_layers = 8\n",
    "\n",
    "\n",
    "tracker = TimeTracker()\n",
    "\n",
    "params = torch.randn((n_unknowns), requires_grad=True, device=device)\n",
    "params_no_grad = torch.randn((n_unknowns), requires_grad=False, device=device)\n",
    "mlp = MLP(\n",
    "    in_dim=n_unknowns,\n",
    "    out_dim=n_residuals,\n",
    "    hidden_dim=hidden_dim,\n",
    "    num_layers=num_layers,\n",
    ").to(device)\n",
    "print(\"MLP sum params:\", sum(p.numel() for p in mlp.parameters()))\n",
    "\n",
    "\n",
    "def f(x):\n",
    "    residuals = mlp(x)\n",
    "    return residuals\n",
    "\n",
    "def f_no_grad(x):\n",
    "    with torch.no_grad():\n",
    "        residuals = mlp(x)\n",
    "    return residuals\n",
    "\n",
    "for _ in tqdm(range(steps)):\n",
    "    tracker.start(\"reverse_jacobian_vectorize_graph\")\n",
    "    jacobian(f, params, strategy=\"reverse-mode\", vectorize=True, create_graph=True)\n",
    "    tracker.start(\"reverse_jacobian_vectorize\", stop=True)\n",
    "    jacobian(f, params, strategy=\"reverse-mode\", vectorize=True, create_graph=False)\n",
    "    tracker.start(\"reverse_jacobian_graph\", stop=True)\n",
    "    jacobian(f, params, strategy=\"reverse-mode\", vectorize=False, create_graph=True)\n",
    "    tracker.start(\"reverse_jacobian\", stop=True)\n",
    "    jacobian(f, params, strategy=\"reverse-mode\", vectorize=False, create_graph=False)\n",
    "    tracker.start(\"forward_jacobian_vectorize\", stop=True)\n",
    "    jacobian(f, params, strategy=\"forward-mode\", vectorize=True, create_graph=False)\n",
    "    tracker.start(\"reverse_vmapjac\", stop=True)\n",
    "    vmap(jacrev(f))(params.unsqueeze(0))[0]\n",
    "    tracker.start(\"reverse_jac\", stop=True)\n",
    "    jacrev(f)(params)\n",
    "    tracker.start(\"reverse_jac_chunk10\", stop=True)\n",
    "    jacrev(f, chunk_size=10)(params)\n",
    "    tracker.start(\"reverse_jac_chunk1000\", stop=True)\n",
    "    jacrev(f, chunk_size=1000)(params)\n",
    "    tracker.start(\"reverse_jac_chunk10000\", stop=True)\n",
    "    jacrev(f, chunk_size=10000)(params)\n",
    "    tracker.start(\"reverse_jac_chunk100000\", stop=True)\n",
    "    jacrev(f, chunk_size=100000)(params)\n",
    "    tracker.start(\"reverse_jac_no_grad\", stop=True)\n",
    "    jacrev(f_no_grad)(params)\n",
    "    tracker.start(\"forward_jac\", stop=True)\n",
    "    jacfwd(f)(params)\n",
    "    tracker.start(\"forward_jac_no_grad\", stop=True)\n",
    "    jacfwd(f_no_grad)(params)\n",
    "    tracker.start(\"forward_jac_no_grad\", stop=True)\n",
    "    jacfwd(f_no_grad)(params)\n",
    "    tracker.stop()\n",
    "\n",
    "print(tracker.print_summary())"
   ]
  },
  {
   "cell_type": "code",
   "execution_count": null,
   "metadata": {},
   "outputs": [],
   "source": [
    "print(tracker.print_summary())"
   ]
  },
  {
   "cell_type": "code",
   "execution_count": null,
   "metadata": {},
   "outputs": [],
   "source": [
    "jacrev(f)(params)"
   ]
  },
  {
   "cell_type": "code",
   "execution_count": null,
   "metadata": {},
   "outputs": [],
   "source": [
    "jacfwd(f)(params)"
   ]
  }
 ],
 "metadata": {
  "kernelspec": {
   "display_name": "guided",
   "language": "python",
   "name": "python3"
  },
  "language_info": {
   "codemirror_mode": {
    "name": "ipython",
    "version": 3
   },
   "file_extension": ".py",
   "mimetype": "text/x-python",
   "name": "python",
   "nbconvert_exporter": "python",
   "pygments_lexer": "ipython3",
   "version": "3.10.14"
  }
 },
 "nbformat": 4,
 "nbformat_minor": 2
}
