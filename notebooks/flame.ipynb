{
 "cells": [
  {
   "cell_type": "markdown",
   "metadata": {},
   "source": [
    "# Flame\n",
    "\n",
    "In order to download the models we need to look at: https://flame.is.tue.mpg.de/download.php\n",
    "This could be usefull if onw want's to look how to load the FLAME model from the SMPL loader: https://github.com/Rubikplayer/flame-fitting/blob/master/smpl_webuser/serialization.py#L117\n",
    "Useful utils if one needs to transform the chumpy format into nupy or torch: https://github.com/vchoutas/smplx/blob/main/smplx/utils.py\n",
    "\n",
    "NOTE: That if one want't to unpickle old python=2.x numpy code, we need to use the encoding=\"latin1\". For more information please refere to: https://docs.python.org/3/library/pickle.html\n"
   ]
  },
  {
   "cell_type": "code",
   "execution_count": null,
   "metadata": {},
   "outputs": [],
   "source": [
    "import pickle\n",
    "from pathlib import Path\n",
    "import numpy as np\n",
    "import torch\n",
    "import warnings\n",
    "\n",
    "\n",
    "def to_tensor(array, dtype=torch.float32):\n",
    "    if torch.is_tensor(array):\n",
    "        return array\n",
    "    return torch.tensor(array, dtype=dtype)\n",
    "\n",
    "\n",
    "def to_np(array, dtype=np.float32):\n",
    "    if \"scipy.sparse\" in str(type(array)):\n",
    "        array = array.todense()\n",
    "    return np.array(array, dtype=dtype)\n",
    "\n",
    "\n",
    "def load_flame_no_jaw(flame_dir: str | Path):\n",
    "    # https://github.com/soubhiksanyal/FLAME_PyTorch/blob/master/requirements.txt\n",
    "    # the requirenemnts needs to be fixed and we need to have chumpy installed\n",
    "    # also python 3.10 is required with an \"older\" numpy version\n",
    "    warnings.filterwarnings(\"ignore\", category=DeprecationWarning)\n",
    "    path = Path(flame_dir) / \"flame2023_no_jaw.pkl\"\n",
    "    with open(path, \"rb\") as f:\n",
    "        return pickle.load(f, encoding=\"latin1\")\n",
    "\n",
    "\n",
    "def load_flame(flame_dir: str | Path):\n",
    "    warnings.filterwarnings(\"ignore\", category=DeprecationWarning)\n",
    "    path = Path(flame_dir) / \"flame2023.pkl\"\n",
    "    with open(path, \"rb\") as f:\n",
    "        return pickle.load(f, encoding=\"latin1\")\n",
    "\n",
    "\n",
    "# https://github.com/soubhiksanyal/FLAME_PyTorch/blob/master/flame_pytorch/flame.py\n",
    "flame_dir = \"/Users/robinborth/Code/GuidedResearch/checkpoints/flame\"\n",
    "flame_model = load_flame_no_jaw(flame_dir)\n",
    "\n",
    "# those are used in the pytorch flame example\n",
    "faces = to_np(flame_model[\"f\"])\n",
    "shapedirs = to_np(flame_model[\"shapedirs\"])\n",
    "j_regressor = to_np(flame_model[\"J_regressor\"])\n",
    "posedirs = to_np(flame_model[\"posedirs\"])\n",
    "parents = to_np(flame_model[\"kintree_table\"])\n",
    "lbs_weights = to_np(flame_model[\"weights\"])"
   ]
  },
  {
   "cell_type": "markdown",
   "metadata": {},
   "source": [
    "# Falme Landmarks\n",
    "\n",
    "The landmark file defines the barycentric embedding of 105 points of the Mediapipe mesh in the surface of FLAME.\n",
    "In consists of three arrays: lmk_face_idx, lmk_b_coords, and landmark_indices.\n",
    "\n",
    "- lmk_face_idx contains for every landmark the index of the FLAME triangle which each landmark is embedded into\n",
    "- lmk_b_coords are the barycentric weights for each vertex of the triangles\n",
    "- landmark_indices are the indices of the vertices of the Mediapipe mesh\n"
   ]
  },
  {
   "cell_type": "code",
   "execution_count": null,
   "metadata": {},
   "outputs": [],
   "source": [
    "def load_flame_landmarks(flame_dir: str | Path):\n",
    "    path = flame_dir = Path(flame_dir) / \"mediapipe_landmark_embedding.npz\"\n",
    "    return np.load(path)\n",
    "\n",
    "\n",
    "flame_landmarks = load_flame_landmarks(flame_dir)\n",
    "print(list(flame_landmarks.keys()))\n",
    "print()\n",
    "\n",
    "print(\"lmk_face_idx:\")\n",
    "print(flame_landmarks[\"lmk_face_idx\"][:5])\n",
    "print(flame_landmarks[\"lmk_face_idx\"].min())\n",
    "print(flame_landmarks[\"lmk_face_idx\"].max())\n",
    "print(flame_landmarks[\"lmk_face_idx\"].shape)\n",
    "print()\n",
    "\n",
    "print(\"lmk_b_coords:\")\n",
    "print(flame_landmarks[\"lmk_b_coords\"][:5])\n",
    "print(flame_landmarks[\"lmk_b_coords\"].min())\n",
    "print(flame_landmarks[\"lmk_b_coords\"].max())\n",
    "print(flame_landmarks[\"lmk_b_coords\"].shape)\n",
    "print()\n",
    "\n",
    "print(\"landmark_indices:\")\n",
    "print(flame_landmarks[\"landmark_indices\"][:5])\n",
    "print(flame_landmarks[\"landmark_indices\"].min())\n",
    "print(flame_landmarks[\"landmark_indices\"].max())\n",
    "print(flame_landmarks[\"landmark_indices\"].shape)"
   ]
  },
  {
   "cell_type": "markdown",
   "metadata": {},
   "source": [
    "# FLAME Mask\n",
    "\n",
    "Dictionary with vertex indices for different masks for the publicly available FLAME head model (https://flame.is.tue.mpg.de/).\n",
    "See the gif for a visualization of all masks.\n"
   ]
  },
  {
   "cell_type": "code",
   "execution_count": null,
   "metadata": {},
   "outputs": [],
   "source": [
    "def load_flame_masks(flame_dir: str | Path):\n",
    "    path = Path(flame_dir) / \"FLAME_masks.pkl\"\n",
    "    with open(path, \"rb\") as f:\n",
    "        return pickle.load(f, encoding=\"latin1\")\n",
    "\n",
    "\n",
    "flame_masks = load_flame_masks(flame_dir)\n",
    "print(list(flame_masks.keys()))\n",
    "print()\n",
    "\n",
    "print(\"eye_region:\")\n",
    "print(flame_masks[\"eye_region\"][:5])\n",
    "print(flame_masks[\"eye_region\"].min())\n",
    "print(flame_masks[\"eye_region\"].max())\n",
    "print(flame_masks[\"eye_region\"].shape)"
   ]
  }
 ],
 "metadata": {
  "kernelspec": {
   "display_name": "guided",
   "language": "python",
   "name": "python3"
  },
  "language_info": {
   "codemirror_mode": {
    "name": "ipython",
    "version": 3
   },
   "file_extension": ".py",
   "mimetype": "text/x-python",
   "name": "python",
   "nbconvert_exporter": "python",
   "pygments_lexer": "ipython3",
   "version": "3.10.14"
  }
 },
 "nbformat": 4,
 "nbformat_minor": 2
}
