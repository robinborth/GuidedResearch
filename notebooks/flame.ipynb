{
 "cells": [
  {
   "cell_type": "markdown",
   "metadata": {},
   "source": [
    "# Flame\n",
    "\n",
    "In order to download the models we need to look at: https://flame.is.tue.mpg.de/download.php\n",
    "This could be usefull if onw want's to look how to load the FLAME model from the SMPL loader: https://github.com/Rubikplayer/flame-fitting/blob/master/smpl_webuser/serialization.py#L117\n",
    "Useful utils if one needs to transform the chumpy format into nupy or torch: https://github.com/vchoutas/smplx/blob/main/smplx/utils.py\n",
    "\n",
    "NOTE: That if one want't to unpickle old python=2.x numpy code, we need to use the encoding=\"latin1\". For more information please refere to: https://docs.python.org/3/library/pickle.html\n"
   ]
  },
  {
   "cell_type": "code",
   "execution_count": null,
   "metadata": {},
   "outputs": [],
   "source": [
    "import pickle\n",
    "from pathlib import Path\n",
    "import numpy as np\n",
    "import torch\n",
    "import warnings\n",
    "\n",
    "\n",
    "def to_tensor(array, dtype=torch.float32):\n",
    "    if torch.is_tensor(array):\n",
    "        return array\n",
    "    return torch.tensor(array, dtype=dtype)\n",
    "\n",
    "\n",
    "def to_np(array, dtype=np.float32):\n",
    "    if \"scipy.sparse\" in str(type(array)):\n",
    "        array = array.todense()\n",
    "    return np.array(array, dtype=dtype)\n",
    "\n",
    "\n",
    "def load_flame_2023_no_jaw(flame_dir: str | Path):\n",
    "    # https://github.com/soubhiksanyal/FLAME_PyTorch/blob/master/requirements.txt\n",
    "    # the requirenemnts needs to be fixed and we need to have chumpy installed\n",
    "    # also python 3.10 is required with an \"older\" numpy version\n",
    "    warnings.filterwarnings(\"ignore\", category=DeprecationWarning)\n",
    "    path = Path(flame_dir) / \"flame2023_no_jaw/flame.pkl\"\n",
    "    with open(path, \"rb\") as f:\n",
    "        return pickle.load(f, encoding=\"latin1\")\n",
    "\n",
    "\n",
    "def load_flame_2023(flame_dir: str | Path):\n",
    "    warnings.filterwarnings(\"ignore\", category=DeprecationWarning)\n",
    "    path = Path(flame_dir) / \"flame2023/flame.pkl\"\n",
    "    with open(path, \"rb\") as f:\n",
    "        return pickle.load(f, encoding=\"latin1\")\n",
    "\n",
    "\n",
    "# https://github.com/soubhiksanyal/FLAME_PyTorch/blob/master/flame_pytorch/flame.py\n",
    "flame_dir = \"/Users/robinborth/Code/GuidedResearch/checkpoints\"\n",
    "flame_model = load_flame_2023(flame_dir)\n",
    "print(\"FLAME keys:\")\n",
    "print(list(flame_model.keys()))\n",
    "print()\n",
    "\n",
    "# This is the linear blend skinning (LBS) with corrective blendshapes with N=5023 and\n",
    "# K=4 joint (neck, jaw, and eyeballs (left, right))\n",
    "bs_style = flame_model[\"bs_style\"]\n",
    "print(\"bs_style:\", bs_style)\n",
    "bs_type = flame_model[\"bs_type\"]\n",
    "print(\"bs_type:\", bs_type)\n",
    "\n",
    "# this is the template mesh, e.g. T bar in the \"zero pose\"\n",
    "v_template = to_np(flame_model[\"v_template\"])\n",
    "print(\"v_template:\", v_template.shape)\n",
    "\n",
    "# those are used in the pytorch flame example\n",
    "f = to_np(flame_model[\"f\"])\n",
    "print(\"f:\", f.shape)\n",
    "\n",
    "# shape (beta); note that the dimension is (5023, 3, 400)\n",
    "# where the first 300 are for the shape params and the last 400 for the expression\n",
    "# params, but the matrix is shared\n",
    "shapedirs = to_np(flame_model[\"shapedirs\"])\n",
    "print(\"shapedirs:\", shapedirs.shape)\n",
    "\n",
    "# pose (theta)\n",
    "posedirs = to_np(flame_model[\"posedirs\"])\n",
    "print(\"posedirs:\", posedirs.shape)\n",
    "\n",
    "# is this the expressions? (psi)\n",
    "weights = to_np(flame_model[\"weights\"])  # lbs := linear blend shapes\n",
    "print(\"weights:\", weights.shape)\n",
    "\n",
    "# Linear smoothed by skinning function(T, J, theta, W).\n",
    "# Blendweights W (KxN) are J_regressor\n",
    "J_regressor = to_np(flame_model[\"J_regressor\"])\n",
    "print(\"J_regressor:\", J_regressor.shape)\n",
    "\n",
    "# J are the joints that the vertices of T are rotated\n",
    "J = to_np(flame_model[\"J\"])\n",
    "print(\"J:\", J.shape)\n",
    "\n",
    "kintree_table = to_np(flame_model[\"kintree_table\"])\n",
    "print(\"kintree_table:\", kintree_table.shape)"
   ]
  },
  {
   "cell_type": "code",
   "execution_count": null,
   "metadata": {},
   "outputs": [],
   "source": [
    "from lib.flame.utils import load_flame\n",
    "\n",
    "flame_dir = \"/Users/robinborth/Code/GuidedResearch/checkpoints/flame2023\"\n",
    "flame = load_flame(flame_dir=flame_dir)\n",
    "\n",
    "print(\"faces:\", flame[\"f\"].shape)\n",
    "print(flame[\"f\"].min())\n",
    "print(flame[\"f\"].max())"
   ]
  },
  {
   "cell_type": "markdown",
   "metadata": {},
   "source": [
    "# Falme Landmarks\n",
    "\n",
    "The landmark file defines the barycentric embedding of 105 points of the Mediapipe mesh in the surface of FLAME.\n",
    "In consists of three arrays: lmk_face_idx, lmk_b_coords, and landmark_indices.\n",
    "\n",
    "- lmk_face_idx contains for every landmark the index of the FLAME triangle which each landmark is embedded into\n",
    "- lmk_b_coords are the barycentric weights for each vertex of the triangles\n",
    "- landmark_indices are the indices of the vertices of the Mediapipe mesh\n"
   ]
  },
  {
   "cell_type": "code",
   "execution_count": null,
   "metadata": {},
   "outputs": [],
   "source": [
    "def load_flame_landmarks(flame_dir: str | Path):\n",
    "    path = Path(flame_dir) / \"mediapipe_landmark_embedding.npz\"\n",
    "    return np.load(path)\n",
    "\n",
    "\n",
    "flame_dir = \"/Users/robinborth/Code/GuidedResearch/checkpoints/flame2023\"\n",
    "flame_landmarks = load_flame_landmarks(flame_dir)\n",
    "print(list(flame_landmarks.keys()))\n",
    "print()\n",
    "\n",
    "print(\"lmk_face_idx:\")\n",
    "print(flame_landmarks[\"lmk_face_idx\"][:5])\n",
    "print(flame_landmarks[\"lmk_face_idx\"].min())\n",
    "print(flame_landmarks[\"lmk_face_idx\"].max())\n",
    "print(flame_landmarks[\"lmk_face_idx\"].shape)\n",
    "print()\n",
    "\n",
    "print(\"lmk_b_coords:\")\n",
    "print(flame_landmarks[\"lmk_b_coords\"][:5])\n",
    "print(flame_landmarks[\"lmk_b_coords\"].min())\n",
    "print(flame_landmarks[\"lmk_b_coords\"].max())\n",
    "print(flame_landmarks[\"lmk_b_coords\"].shape)\n",
    "print()\n",
    "\n",
    "print(\"landmark_indices:\")\n",
    "print(flame_landmarks[\"landmark_indices\"][:5])\n",
    "print(flame_landmarks[\"landmark_indices\"].min())\n",
    "print(flame_landmarks[\"landmark_indices\"].max())\n",
    "print(flame_landmarks[\"landmark_indices\"].shape)"
   ]
  },
  {
   "cell_type": "code",
   "execution_count": null,
   "metadata": {},
   "outputs": [],
   "source": [
    "# called normalized or absolute barycentric coordinates\n",
    "# hence they are unique then\n",
    "flame_landmarks[\"lmk_b_coords\"].sum(-1)"
   ]
  },
  {
   "cell_type": "markdown",
   "metadata": {},
   "source": [
    "# FLAME Mask\n",
    "\n",
    "Dictionary with vertex indices for different masks for the publicly available FLAME head model (https://flame.is.tue.mpg.de/).\n",
    "See the gif for a visualization of all masks.\n"
   ]
  },
  {
   "cell_type": "code",
   "execution_count": null,
   "metadata": {},
   "outputs": [],
   "source": [
    "def load_flame_masks(flame_dir: str | Path):\n",
    "    path = Path(flame_dir) / \"FLAME_masks.pkl\"\n",
    "    with open(path, \"rb\") as f:\n",
    "        return pickle.load(f, encoding=\"latin1\")\n",
    "\n",
    "\n",
    "flame_masks = load_flame_masks(flame_dir)\n",
    "print(list(flame_masks.keys()))\n",
    "print()\n",
    "\n",
    "print(\"eye_region:\")\n",
    "print(flame_masks[\"eye_region\"][:5])\n",
    "print(flame_masks[\"eye_region\"].min())\n",
    "print(flame_masks[\"eye_region\"].max())\n",
    "print(flame_masks[\"eye_region\"].shape)"
   ]
  },
  {
   "cell_type": "markdown",
   "metadata": {},
   "source": [
    "# Render the flame model\n"
   ]
  },
  {
   "cell_type": "code",
   "execution_count": null,
   "metadata": {},
   "outputs": [],
   "source": [
    "import trimesh\n",
    "import pyrender\n",
    "import numpy as np\n",
    "\n",
    "path = \"/Users/robinborth/Code/GuidedResearch/data/flame_registrations/d3dfacs_alignments/Adrian/1+2/1+2_120.ply\"\n",
    "mesh = trimesh.load_mesh(path)\n",
    "vertex_colors = np.ones([mesh.vertices.shape[0], 4]) * [0.3, 0.3, 0.3, 0.8]\n",
    "mesh = trimesh.Trimesh(mesh.vertices, mesh.faces, vertex_colors=vertex_colors)\n",
    "\n",
    "scene = pyrender.Scene()\n",
    "scene.add(pyrender.Mesh.from_trimesh(mesh))\n",
    "pyrender.Viewer(scene=scene, use_raymond_lightning=True)"
   ]
  },
  {
   "cell_type": "markdown",
   "metadata": {},
   "source": [
    "# FLAME\n"
   ]
  },
  {
   "cell_type": "code",
   "execution_count": null,
   "metadata": {},
   "outputs": [],
   "source": [
    "from lib.flame import FLAME\n",
    "\n",
    "flame_dir = \"/Users/robinborth/Code/GuidedResearch/checkpoints/flame2023\"\n",
    "flame = FLAME(flame_dir=flame_dir)"
   ]
  },
  {
   "cell_type": "code",
   "execution_count": null,
   "metadata": {},
   "outputs": [],
   "source": [
    "import torch\n",
    "import numpy as np\n",
    "import trimesh\n",
    "\n",
    "# forward the model\n",
    "shape_params = torch.zeros(300)\n",
    "expression_params = torch.zeros(100)\n",
    "vertices = flame(\n",
    "    shape_params=shape_params,\n",
    "    expression_params=expression_params,\n",
    ")\n",
    "vertices = vertices.detach().cpu().numpy()\n",
    "\n",
    "# convert to trimesh\n",
    "vertex_colors = np.ones([vertices.shape[0], 4]) * [0.3, 0.3, 0.3, 0.8]\n",
    "mesh = trimesh.Trimesh(vertices, flame.faces, vertex_colors=vertex_colors)"
   ]
  },
  {
   "cell_type": "markdown",
   "metadata": {},
   "source": [
    "# Rendering"
   ]
  },
  {
   "cell_type": "code",
   "execution_count": null,
   "metadata": {},
   "outputs": [],
   "source": [
    "from pyrender import OffscreenRenderer, Mesh, Scene, PerspectiveCamera\n",
    "import matplotlib.pyplot as plt\n",
    "\n",
    "# add mesh to scene\n",
    "scene = Scene()\n",
    "scene.add(Mesh.from_trimesh(mesh))\n",
    "\n",
    "# create camera\n",
    "cam = PerspectiveCamera(yfov=(np.pi / 3.0))\n",
    "cam_pose = np.array(\n",
    "    [\n",
    "        [1.0, 0.0, 0.0, 0.0],\n",
    "        [0.0, 1.0, 0.0, 0.0],\n",
    "        [0.0, 0.0, 1.0, 0.5],\n",
    "        [0.0, 0.0, 0.0, 1.0],\n",
    "    ]\n",
    ")\n",
    "cam_node = scene.add(cam, pose=cam_pose)\n",
    "\n",
    "# render the scene\n",
    "renderer = OffscreenRenderer(viewport_width=1024, viewport_height=1024)\n",
    "color, depth = renderer.render(scene)\n",
    "renderer.delete()\n",
    "plt.figure(figsize=(20,20))\n",
    "plt.imshow(color)\n",
    "plt.show()"
   ]
  },
  {
   "cell_type": "markdown",
   "metadata": {},
   "source": [
    "# Gaussian Head FLAME"
   ]
  },
  {
   "cell_type": "code",
   "execution_count": null,
   "metadata": {},
   "outputs": [],
   "source": [
    "import numpy as np\n",
    "\n",
    "path = \"/Users/robinborth/Code/GuidedResearch/checkpoints/gaussianhead/landmark_embedding_with_eyes.npy\"\n",
    "lms = np.load(path, allow_pickle=True)\n",
    "# TODO inspect lms"
   ]
  }
 ],
 "metadata": {
  "kernelspec": {
   "display_name": "guided",
   "language": "python",
   "name": "python3"
  },
  "language_info": {
   "codemirror_mode": {
    "name": "ipython",
    "version": 3
   },
   "file_extension": ".py",
   "mimetype": "text/x-python",
   "name": "python",
   "nbconvert_exporter": "python",
   "pygments_lexer": "ipython3",
   "version": "3.10.14"
  }
 },
 "nbformat": 4,
 "nbformat_minor": 2
}
