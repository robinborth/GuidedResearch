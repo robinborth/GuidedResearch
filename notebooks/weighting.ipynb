{
 "cells": [
  {
   "cell_type": "code",
   "execution_count": null,
   "metadata": {},
   "outputs": [],
   "source": [
    "import torch\n",
    "import torch.nn as nn\n",
    "from typing import Any \n",
    "\n",
    "\n",
    "class ResidualWeightModule(nn.Module):\n",
    "    def __init__(\n",
    "        self,\n",
    "        in_channels: int = 5,  # source_depth, target_depth, target_normal\n",
    "        out_channels: int = 1,  # weight\n",
    "        hidden_channels: int = 100,\n",
    "        kernal_size: int = 3,\n",
    "        num_layers: int = 1,\n",
    "    ):\n",
    "        super().__init__()\n",
    "        layers: list[Any] = []\n",
    "        # input layers\n",
    "        layers.append(nn.Conv2d(in_channels, hidden_channels, kernal_size, padding=\"same\"))\n",
    "        layers.append(nn.ReLU())\n",
    "        # hidden layers\n",
    "        for _ in range(num_layers):\n",
    "            layers.append(nn.Conv2d(hidden_channels, hidden_channels, kernal_size, padding=\"same\"))\n",
    "            layers.append(nn.ReLU())\n",
    "        # output layer\n",
    "        layers.append(nn.Conv2d(hidden_channels, out_channels, kernal_size, padding=\"same\"))\n",
    "\n",
    "        self.cnn = nn.Sequential(*layers)\n",
    "\n",
    "    def forward(self, x):\n",
    "        return torch.exp(self.cnn(x))\n",
    "\n",
    "\n",
    "model = ResidualWeightModule()\n",
    "x = torch.randn(10, 5, 256, 256)\n",
    "model(x).shape"
   ]
  }
 ],
 "metadata": {
  "kernelspec": {
   "display_name": "guided",
   "language": "python",
   "name": "python3"
  },
  "language_info": {
   "codemirror_mode": {
    "name": "ipython",
    "version": 3
   },
   "file_extension": ".py",
   "mimetype": "text/x-python",
   "name": "python",
   "nbconvert_exporter": "python",
   "pygments_lexer": "ipython3",
   "version": "3.10.14"
  }
 },
 "nbformat": 4,
 "nbformat_minor": 2
}
