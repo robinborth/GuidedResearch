{
 "cells": [
  {
   "cell_type": "code",
   "execution_count": null,
   "metadata": {},
   "outputs": [],
   "source": [
    "from pathlib import Path\n",
    "data_dir = Path(\"/Users/robinborth/Code/GuidedResearch/data/dphm_christoph_mouthmove\")"
   ]
  },
  {
   "cell_type": "markdown",
   "metadata": {},
   "source": [
    "# Utils"
   ]
  },
  {
   "cell_type": "code",
   "execution_count": null,
   "metadata": {},
   "outputs": [],
   "source": [
    "import json\n",
    "from PIL import Image\n",
    "import numpy as np\n",
    "\n",
    "def load_calibration(data_dir: str | Path):\n",
    "    path = Path(data_dir) / \"calibration.json\"\n",
    "    with open(path) as f:\n",
    "        return json.load(f)\n",
    "\n",
    "def load_color(data_dir: str | Path, idx: int) -> Image:\n",
    "    path = Path(data_dir) / \"color\" / f\"{idx:05}.png\"\n",
    "    return Image.open(path)\n",
    "\n",
    "def load_pipnet_landmark(data_dir: str | Path, idx: int) -> np.ndarray:\n",
    "    path = Path(data_dir) / \"color/PIPnet_landmarks\" / f\"{idx:05}.npy\"\n",
    "    return np.load(path)\n",
    "\n",
    "def load_pipnet_image(data_dir: str | Path, idx: int) -> Image:\n",
    "    path = Path(data_dir) / \"color/PIPnet_annotated_images\" / f\"{idx:05}.png\"\n",
    "    return Image.open(path)\n",
    "\n",
    "def load_mediapipe_landmark(data_dir: str | Path, idx: int) -> np.ndarray:\n",
    "    path = Path(data_dir) / \"color/Mediapipe_landmarks\" / f\"{idx:05}.npy\"\n",
    "    return np.load(path)\n",
    "\n",
    "def load_mediapipe_image(data_dir: str | Path, idx: int) -> Image:\n",
    "    path = Path(data_dir) / \"color/Mediapipe_annotated_images\" / f\"{idx:05}.png\"\n",
    "    return Image.open(path)\n",
    "\n",
    "def load_depth_image(data_dir: str | Path, idx: int) -> Image:\n",
    "    path = Path(data_dir) / \"depth\" / f\"{idx:05}.png\"\n",
    "    return Image.open(path)\n",
    "\n",
    "def load_depth_masked(data_dir: str | Path, idx: int) -> Image:\n",
    "    path = Path(data_dir) / \"depth_normals_bilateral\" / f\"{idx:05}_depth.jpg\"\n",
    "    return Image.open(path)\n",
    "\n",
    "def load_color_masked(data_dir: str | Path, idx: int) -> Image:\n",
    "    path = Path(data_dir) / \"depth_normals_bilateral\" / f\"{idx:05}_colormask.jpg\"\n",
    "    return Image.open(path)\n",
    "\n",
    "def load_normal_masked(data_dir: str | Path, idx: int) -> Image:\n",
    "    path = Path(data_dir) / \"depth_normals_bilateral\" / f\"{idx:05}_normal.jpg\"\n",
    "    return Image.open(path)\n",
    "\n",
    "def load_depth_filter(data_dir: str | Path, idx: int) -> Image:\n",
    "    path = Path(data_dir) / \"depth_normals_bilateral\" / f\"{idx:05}_depth_filter.jpg\"\n",
    "    return Image.open(path)\n",
    "\n",
    "def load_color_filter(data_dir: str | Path, idx: int) -> Image:\n",
    "    path = Path(data_dir) / \"depth_normals_bilateral\" / f\"{idx:05}_colormask_filter.jpg\"\n",
    "    return Image.open(path)\n",
    "\n",
    "def load_normal_filter(data_dir: str | Path, idx: int) -> Image:\n",
    "    path = Path(data_dir) / \"depth_normals_bilateral\" / f\"{idx:05}_normal_filter.jpg\"\n",
    "    return Image.open(path)"
   ]
  },
  {
   "cell_type": "markdown",
   "metadata": {},
   "source": [
    "# Masked Images"
   ]
  },
  {
   "cell_type": "code",
   "execution_count": null,
   "metadata": {},
   "outputs": [],
   "source": [
    "image_idx = 0\n",
    "\n",
    "color = load_color(data_dir=data_dir, idx=image_idx)\n",
    "display(color)\n",
    "\n",
    "color_masked = load_color_masked(data_dir=data_dir, idx=image_idx)\n",
    "display(color_masked)\n",
    "\n",
    "color_filter = load_color_filter(data_dir, idx=image_idx)\n",
    "depth_filter = load_depth_filter(data_dir, idx=image_idx)\n",
    "normal_filter = load_normal_filter(data_dir, idx=image_idx)\n",
    "\n",
    "display(color_filter)\n",
    "display(depth_filter)\n",
    "display(normal_filter)\n",
    "\n",
    "# color_mask = np.asarray(color_filter) > 0\n",
    "# depth_mask = np.asarray(depth_filter) > 0\n",
    "# normal_mask = np.asarray(normal_filter) > 0"
   ]
  },
  {
   "cell_type": "markdown",
   "metadata": {},
   "source": [
    "# Landmarks"
   ]
  },
  {
   "cell_type": "code",
   "execution_count": null,
   "metadata": {},
   "outputs": [],
   "source": [
    "import numpy as np\n",
    "\n",
    "image_idx = 100\n",
    "pipnet_landmarks = load_pipnet_landmark(data_dir, idx=image_idx)\n",
    "print(f\"{pipnet_landmarks.shape=}\")\n",
    "print(pipnet_landmarks[:5, :])\n",
    "load_pipnet_image(data_dir, idx=image_idx)"
   ]
  },
  {
   "cell_type": "code",
   "execution_count": null,
   "metadata": {},
   "outputs": [],
   "source": [
    "import numpy as np\n",
    "\n",
    "image_idx = 100\n",
    "mediapipe_landmarks = load_mediapipe_landmark(data_dir, idx=image_idx)\n",
    "print(f\"{mediapipe_landmarks.shape=}\")\n",
    "print(mediapipe_landmarks[:5, :])\n",
    "load_mediapipe_image(data_dir, idx=image_idx)"
   ]
  },
  {
   "cell_type": "code",
   "execution_count": null,
   "metadata": {},
   "outputs": [],
   "source": [
    "lms = np.load(\"/Users/robinborth/Code/GuidedResearch/data/dphm_christoph_mouthmove/lms_3d_pip_new/00000.npy\")\n",
    "lms.shape"
   ]
  },
  {
   "cell_type": "code",
   "execution_count": null,
   "metadata": {},
   "outputs": [],
   "source": [
    "import open3d as o3d\n",
    "lms_pc = o3d.io.read_point_cloud(\"/Users/robinborth/Code/GuidedResearch/data/dphm_christoph_mouthmove/lms_3d_pip_new/00000.ply\")\n",
    "pc = np.asarray(lms_pc.points)\n",
    "print(f\"{pc.shape=}\")\n",
    "print(pc[:5, :])\n"
   ]
  },
  {
   "cell_type": "markdown",
   "metadata": {},
   "source": [
    "# Depth"
   ]
  },
  {
   "cell_type": "code",
   "execution_count": null,
   "metadata": {},
   "outputs": [],
   "source": [
    "import matplotlib.pyplot as plt\n",
    "\n",
    "depth_image = load_depth_image(data_dir=data_dir, idx=0)\n",
    "display(depth_image)\n",
    "\n",
    "# show the depth values\n",
    "depth_values = np.asarray(depth_image)\n",
    "plt.hist(depth_values)\n",
    "plt.show()"
   ]
  },
  {
   "cell_type": "markdown",
   "metadata": {},
   "source": [
    "# Normals and Points in 3D"
   ]
  },
  {
   "cell_type": "code",
   "execution_count": null,
   "metadata": {},
   "outputs": [],
   "source": [
    "path =  \"/Users/robinborth/Code/GuidedResearch/data/dphm_christoph_mouthmove/normals_new/00000.npy\"\n",
    "normal = np.load(path)\n",
    "normal.shape"
   ]
  },
  {
   "cell_type": "code",
   "execution_count": null,
   "metadata": {},
   "outputs": [],
   "source": [
    "path = \"/Users/robinborth/Code/GuidedResearch/data/dphm_christoph_mouthmove/points_new/00000.npy\"\n",
    "points = np.load(path)\n",
    "print(f\"{points.shape=}\")\n",
    "print(points[:5,:])"
   ]
  },
  {
   "cell_type": "code",
   "execution_count": null,
   "metadata": {},
   "outputs": [],
   "source": [
    "path =  \"/Users/robinborth/Code/GuidedResearch/data/dphm_christoph_mouthmove/normals_new_maskmouth/00000.npy\"\n",
    "normal = np.load(path)\n",
    "normal.shape"
   ]
  },
  {
   "cell_type": "code",
   "execution_count": null,
   "metadata": {},
   "outputs": [],
   "source": [
    "path = \"/Users/robinborth/Code/GuidedResearch/data/dphm_christoph_mouthmove/points_new_maskmouth/00000.npy\"\n",
    "points = np.load(path)\n",
    "print(f\"{points.shape=}\")\n",
    "print(points[:5,:])"
   ]
  },
  {
   "cell_type": "markdown",
   "metadata": {},
   "source": [
    "# Camera"
   ]
  },
  {
   "cell_type": "code",
   "execution_count": null,
   "metadata": {},
   "outputs": [],
   "source": [
    "# TODO"
   ]
  }
 ],
 "metadata": {
  "kernelspec": {
   "display_name": "guided",
   "language": "python",
   "name": "python3"
  },
  "language_info": {
   "codemirror_mode": {
    "name": "ipython",
    "version": 3
   },
   "file_extension": ".py",
   "mimetype": "text/x-python",
   "name": "python",
   "nbconvert_exporter": "python",
   "pygments_lexer": "ipython3",
   "version": "3.10.14"
  }
 },
 "nbformat": 4,
 "nbformat_minor": 2
}
