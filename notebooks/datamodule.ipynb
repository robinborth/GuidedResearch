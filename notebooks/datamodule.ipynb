{
 "cells": [
  {
   "cell_type": "code",
   "execution_count": null,
   "metadata": {},
   "outputs": [],
   "source": [
    "import hydra\n",
    "from lib.utils.config import load_config\n",
    "from lib.data.datamodule import DPHMDataModule\n",
    "from lib.data.scheduler import CoarseToFineScheduler\n",
    "\n",
    "cfg = load_config(\n",
    "    \"optimize\",\n",
    "    overrides=[\n",
    "        \"model.init_mode=kinect\",\n",
    "        \"model.vertices_mask=full\",\n",
    "        \"model.optimize_frames=10\",\n",
    "        \"data=kinect\",\n",
    "        \"data.scale=8\"\n",
    "        \"data.batch_size=10\",\n",
    "        \"data.start_frame_idx=19\",\n",
    "    ],\n",
    ")\n",
    "datamodule: DPHMDataModule = hydra.utils.instantiate(cfg.data, devie=\"cuda\")\n",
    "datamodule.setup()\n",
    "c2fs: CoarseToFineScheduler = hydra.utils.instantiate(cfg.scheduler.coarse2fine)"
   ]
  },
  {
   "cell_type": "code",
   "execution_count": null,
   "metadata": {},
   "outputs": [],
   "source": [
    "import timeit\n",
    "\n",
    "def benchmark_update_dataset():\n",
    "    c2fs.schedule_dataset(datamodule=datamodule, iter_step=0)\n",
    "\n",
    "number = 1\n",
    "time = timeit.timeit(benchmark_update_dataset, number=number) / number\n",
    "print(f\"Execution time: {time} seconds\")"
   ]
  },
  {
   "cell_type": "code",
   "execution_count": null,
   "metadata": {},
   "outputs": [],
   "source": [
    "datamodule.dataset.load_color()"
   ]
  },
  {
   "cell_type": "code",
   "execution_count": null,
   "metadata": {},
   "outputs": [],
   "source": [
    "from concurrent.futures import ThreadPoolExecutor, as_completed\n",
    "\n",
    "dataset = datamodule.dataset\n",
    "def process_frame(frame_idx):\n",
    "    return dataset._load_color(frame_idx)\n",
    "\n",
    "normal = []\n",
    "\n",
    "with ThreadPoolExecutor() as executor:\n",
    "    futures = {\n",
    "        executor.submit(process_frame, frame_idx): frame_idx\n",
    "        for frame_idx in dataset.iter_frame_idx()\n",
    "    }\n",
    "\n",
    "    for future in as_completed(futures):\n",
    "        frame_idx = futures[future]\n",
    "        try:\n",
    "            _normal = future.result()\n",
    "            normal.append((frame_idx, _normal))\n",
    "        except Exception as e:\n",
    "            print(f\"Error processing frame {frame_idx}: {e}\")\n",
    "\n",
    "# Sort the results to ensure the frames are in the original order\n",
    "# normal.sort(key=lambda x: x[0])\n",
    "# normal = [normal for _, normal in normal]"
   ]
  },
  {
   "cell_type": "code",
   "execution_count": null,
   "metadata": {},
   "outputs": [],
   "source": []
  }
 ],
 "metadata": {
  "kernelspec": {
   "display_name": "guided",
   "language": "python",
   "name": "python3"
  },
  "language_info": {
   "codemirror_mode": {
    "name": "ipython",
    "version": 3
   },
   "file_extension": ".py",
   "mimetype": "text/x-python",
   "name": "python",
   "nbconvert_exporter": "python",
   "pygments_lexer": "ipython3",
   "version": "3.10.14"
  }
 },
 "nbformat": 4,
 "nbformat_minor": 2
}
