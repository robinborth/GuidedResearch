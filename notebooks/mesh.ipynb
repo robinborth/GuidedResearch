{
 "cells": [
  {
   "cell_type": "code",
   "execution_count": null,
   "metadata": {},
   "outputs": [],
   "source": [
    "%load_ext autoreload\n",
    "%autoreload 2"
   ]
  },
  {
   "cell_type": "code",
   "execution_count": null,
   "metadata": {},
   "outputs": [],
   "source": [
    "from lib.utils.mesh import vertex_normals, face_angles, face_normals\n",
    "import torch\n",
    "from lib.utils.loader import load_flame\n",
    "\n",
    "data_dir = \"/Users/robinborth/Code/GuidedResearch/data/dphm_christoph_mouthmove\"\n",
    "flame_dir = \"/Users/robinborth/Code/GuidedResearch/checkpoints/flame2023\"\n",
    "flame_dict = load_flame(flame_dir)\n",
    "\n",
    "vertices = flame_dict[\"v_template\"].unsqueeze(0)  # (B, V, 3)\n",
    "v = torch.concatenate([vertices, vertices])\n",
    "faces = flame_dict[\"f\"]  # (F, 3)\n",
    "\n",
    "vertex_normals(v, faces)\n",
    "# torch.linalg.norm(v_normals, dim=-1)\n",
    "# face_normals(vertices, faces)\n"
   ]
  },
  {
   "cell_type": "code",
   "execution_count": null,
   "metadata": {},
   "outputs": [],
   "source": [
    "import trimesh\n",
    "import numpy as np\n",
    "mesh = trimesh.Trimesh(vertices=vertices.squeeze(), faces=faces)\n",
    "mesh.vertex_normals"
   ]
  },
  {
   "cell_type": "code",
   "execution_count": null,
   "metadata": {},
   "outputs": [],
   "source": [
    "f_n = face_normals(vertices, faces)\n",
    "f_n"
   ]
  }
 ],
 "metadata": {
  "kernelspec": {
   "display_name": "guided",
   "language": "python",
   "name": "python3"
  },
  "language_info": {
   "codemirror_mode": {
    "name": "ipython",
    "version": 3
   },
   "file_extension": ".py",
   "mimetype": "text/x-python",
   "name": "python",
   "nbconvert_exporter": "python",
   "pygments_lexer": "ipython3",
   "version": "3.10.14"
  }
 },
 "nbformat": 4,
 "nbformat_minor": 2
}
