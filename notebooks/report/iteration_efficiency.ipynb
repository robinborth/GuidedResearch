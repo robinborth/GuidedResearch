{
 "cells": [
  {
   "cell_type": "code",
   "execution_count": 1,
   "metadata": {},
   "outputs": [
    {
     "name": "stdout",
     "output_type": "stream",
     "text": [
      "Jupyter environment detected. Enabling Open3D WebVisualizer.\n",
      "[Open3D INFO] WebRTC GUI backend enabled.\n",
      "[Open3D INFO] WebRTCWindowSystem: HTTP handshake server disabled.\n"
     ]
    }
   ],
   "source": [
    "import hydra\n",
    "import torch\n",
    "from tqdm.notebook import tqdm\n",
    "from lib.utils.config import load_config\n",
    "from lib.optimizer.framework import NeuralOptimizer, NeuralOptimizer2\n",
    "from lib.data.loader import load_intrinsics\n",
    "from lib.data.loader import load_intrinsics\n",
    "from lib.rasterizer import Rasterizer\n",
    "from lib.renderer.renderer import Renderer\n",
    "from lib.renderer.camera import Camera\n",
    "from lib.tracker.timer import TimeTracker\n",
    "from lib.utils.progress import reset_progress, close_progress\n",
    "\n",
    "\n",
    "def path_to_abblation(path):\n",
    "    return \"_\".join(path.split(\"/\")[-3].split(\"_\")[1:])\n",
    "\n",
    "\n",
    "def eval_iterations(\n",
    "    optimizer, datamodule, N: int = 1, value: str = \"loss_param\", mode=\"iters\"\n",
    "):\n",
    "    optimizer.max_iters = 1\n",
    "    optimizer.max_optims = 1\n",
    "\n",
    "    outer_progress = tqdm(total=N + 1, desc=\"Iter Loop\", position=0)\n",
    "    total_evals = len(datamodule.val_dataset)\n",
    "    inner_progress = tqdm(total=total_evals, desc=\"Eval Loop\", leave=True, position=1)\n",
    "\n",
    "    iters_p_loss = {}\n",
    "    iters_v_loss = {}\n",
    "    iters_time = {}\n",
    "\n",
    "    # initial evaluation no optimization\n",
    "    reset_progress(inner_progress, total_evals)\n",
    "    p_loss = []\n",
    "    v_loss = []\n",
    "    for batch in datamodule.val_dataloader():\n",
    "        with torch.no_grad():\n",
    "            batch = optimizer.transfer_batch_to_device(batch, \"cuda\", 0)\n",
    "            out = optimizer(batch)\n",
    "            out[\"params\"] = batch[\"init_params\"]\n",
    "            loss_info = optimizer.compute_loss(batch=batch, out=out)\n",
    "            p_loss.append(loss_info[\"loss_param\"])\n",
    "            v_loss.append(loss_info[\"loss_vertices\"])\n",
    "        inner_progress.update(1)\n",
    "    iters_p_loss[0] = torch.stack(p_loss)\n",
    "    iters_v_loss[0] = torch.stack(v_loss)\n",
    "    iters_time[0] = torch.zeros_like(iters_p_loss[0])\n",
    "    outer_progress.update(1)\n",
    "\n",
    "    # evaluation after some optimization\n",
    "    for iters in range(1, N + 1):\n",
    "        reset_progress(inner_progress, total_evals)\n",
    "        if mode == \"iters\":\n",
    "            optimizer.max_iters = iters\n",
    "        else:\n",
    "            optimizer.max_optims = iters\n",
    "        time_tracker = TimeTracker()\n",
    "        p_loss = []\n",
    "        v_loss = []\n",
    "        for batch in datamodule.val_dataloader():\n",
    "            with torch.no_grad():\n",
    "                batch = optimizer.transfer_batch_to_device(batch, \"cuda\", 0)\n",
    "                time_tracker.start(\"optimize\")\n",
    "                out = optimizer(batch)\n",
    "                time_tracker.stop(\"optimize\")\n",
    "                loss_info = optimizer.compute_loss(batch=batch, out=out)\n",
    "                p_loss.append(loss_info[\"loss_param\"])\n",
    "                v_loss.append(loss_info[\"loss_vertices\"])\n",
    "            inner_progress.update(1)\n",
    "        iters_p_loss[iters] = torch.stack(p_loss)\n",
    "        iters_v_loss[iters] = torch.stack(v_loss)\n",
    "        iters_time[iters] = torch.stack(\n",
    "            [torch.tensor(t.time_ms) for t in list(time_tracker.tracks.values())[0]]\n",
    "        )\n",
    "        outer_progress.update(1)\n",
    "    close_progress([outer_progress, inner_progress])\n",
    "    return iters_p_loss, iters_v_loss, iters_time\n",
    "\n",
    "\n",
    "def load_flame_renderer():\n",
    "    # instanciate similar to training\n",
    "    cfg = load_config(\"train\", [\"data=synthetic\"])\n",
    "    K = load_intrinsics(data_dir=cfg.data.intrinsics_dir, return_tensor=\"pt\")\n",
    "    camera = Camera(\n",
    "        K=K,\n",
    "        width=cfg.data.width,\n",
    "        height=cfg.data.height,\n",
    "        near=cfg.data.near,\n",
    "        far=cfg.data.far,\n",
    "        scale=cfg.data.scale,\n",
    "    )\n",
    "    rasterizer = Rasterizer(width=camera.width, height=camera.height)\n",
    "    renderer = Renderer(rasterizer=rasterizer, camera=camera)\n",
    "    flame = hydra.utils.instantiate(cfg.model)\n",
    "    return flame, renderer\n",
    "\n",
    "\n",
    "def load_neural_optimizer(flame, renderer, path):\n",
    "    cfg = load_config(\"train\", [\"data=synthetic\"])\n",
    "    correspondence = hydra.utils.instantiate(cfg.correspondence)\n",
    "    weighting = hydra.utils.instantiate(cfg.weighting)\n",
    "    residuals = hydra.utils.instantiate(cfg.residuals)\n",
    "    regularize = hydra.utils.instantiate(cfg.regularize)\n",
    "    neural_optimizer = NeuralOptimizer.load_from_checkpoint(\n",
    "        path,\n",
    "        renderer=renderer,\n",
    "        flame=flame,\n",
    "        correspondence=correspondence,\n",
    "        regularize=regularize,\n",
    "        residuals=residuals,\n",
    "        weighting=weighting,\n",
    "    )\n",
    "    return neural_optimizer\n",
    "\n",
    "def load_neural_optimizer1(flame, renderer, path):\n",
    "    cfg = load_config(\"train\", [\"data=synthetic\", \"regularize=dummy\"])\n",
    "    correspondence = hydra.utils.instantiate(cfg.correspondence)\n",
    "    weighting = hydra.utils.instantiate(cfg.weighting)\n",
    "    regularize = hydra.utils.instantiate(cfg.regularize)\n",
    "    residuals = hydra.utils.instantiate(cfg.residuals)\n",
    "    neural_optimizer = NeuralOptimizer.load_from_checkpoint(\n",
    "        path,\n",
    "        renderer=renderer,\n",
    "        flame=flame,\n",
    "        correspondence=correspondence,\n",
    "        regularize=regularize,\n",
    "        residuals=residuals,\n",
    "        weighting=weighting,\n",
    "    )\n",
    "    return neural_optimizer\n",
    "\n",
    "\n",
    "def load_icp_optimizer(flame, renderer, overrides, neural_optimizer2: bool = False):\n",
    "    cfg = load_config(\n",
    "        \"train\", [\"data=synthetic\", \"optimizer.output_dir=none\"] + overrides\n",
    "    )\n",
    "    correspondence = hydra.utils.instantiate(cfg.correspondence)\n",
    "    weighting = hydra.utils.instantiate(cfg.weighting)\n",
    "    residuals = hydra.utils.instantiate(cfg.residuals)\n",
    "    optimizer = hydra.utils.instantiate(cfg.optimizer)\n",
    "    regularize = hydra.utils.instantiate(cfg.regularize)\n",
    "    if neural_optimizer2:\n",
    "        cfg.framework._target_ = \"lib.optimizer.framework.NeuralOptimizer2\"\n",
    "    icp_optimizer = hydra.utils.instantiate(\n",
    "        cfg.framework,\n",
    "        flame=flame,\n",
    "        logger=None,\n",
    "        renderer=renderer,\n",
    "        correspondence=correspondence,\n",
    "        regularize=regularize,\n",
    "        residuals=residuals,\n",
    "        optimizer=optimizer,\n",
    "        weighting=weighting,\n",
    "    )\n",
    "    return icp_optimizer.to(\"cuda\")\n",
    "\n",
    "\n",
    "# setup the datamodule\n",
    "def load_datamodule(renderer, start_frame, end_frame):\n",
    "    cfg = load_config(\"train\", [\"data=synthetic\"])\n",
    "    datamodule = hydra.utils.instantiate(\n",
    "        cfg.data,\n",
    "        renderer=renderer,\n",
    "        val_dataset=dict(\n",
    "            start_frame=start_frame,\n",
    "            end_frame=end_frame,\n",
    "        ),\n",
    "    )\n",
    "    datamodule.setup(\"fit\")\n",
    "    return datamodule"
   ]
  },
  {
   "cell_type": "code",
   "execution_count": 2,
   "metadata": {},
   "outputs": [
    {
     "name": "stdout",
     "output_type": "stream",
     "text": [
      "Creating GL context for cuda device 0\n",
      "Successfully initialized EGL version 1.5\n",
      "Successfully initialized OpenGL version 4.6.0 NVIDIA 535.183.01\n"
     ]
    }
   ],
   "source": [
    "# settings\n",
    "N = 3\n",
    "value = \"loss_param\"  #  loss_vertices, loss_param\n",
    "start_frame = 10\n",
    "end_frame = 18\n",
    "\n",
    "# checkpoints\n",
    "ours = \"/home/borth/GuidedResearch/logs/2024-10-06/06-55-55_abblation_ours_ckpt/checkpoints/last.ckpt\"\n",
    "wo_neural_prior = \"/home/borth/GuidedResearch/logs/2024-10-04/22-44-20_abblation_wo_neural_prior/checkpoints/last.ckpt\"\n",
    "w_single_corresp = \"/home/borth/GuidedResearch/logs/2024-10-03/09-54-41_abblation_w_single_corresp/checkpoints/last.ckpt\"\n",
    "w_single_optim = \"/home/borth/GuidedResearch/logs/2024-10-06/12-55-40_abblation_w_single_optim/checkpoints/last.ckpt\"\n",
    "wo_neural_weights = \"/home/borth/GuidedResearch/logs/2024-10-03/09-54-41_abblation_wo_neural_weights/checkpoints/last.ckpt\"\n",
    "w_multi5_optim = \"/home/borth/GuidedResearch/logs/2024-10-06/20-02-37_abblation_w_multi5_optim_ckpt/checkpoints/last.ckpt\"\n",
    "\n",
    "# loadings\n",
    "times = {}\n",
    "p_losses = {}\n",
    "v_losses = {}\n",
    "flame, renderer = load_flame_renderer()\n",
    "datamodule = load_datamodule(renderer, start_frame, end_frame)"
   ]
  },
  {
   "cell_type": "code",
   "execution_count": 4,
   "metadata": {},
   "outputs": [
    {
     "data": {
      "application/vnd.jupyter.widget-view+json": {
       "model_id": "23d4a600378243ce93ea4f6d4a4d2df6",
       "version_major": 2,
       "version_minor": 0
      },
      "text/plain": [
       "Iter Loop:   0%|          | 0/4 [00:00<?, ?it/s]"
      ]
     },
     "metadata": {},
     "output_type": "display_data"
    },
    {
     "data": {
      "application/vnd.jupyter.widget-view+json": {
       "model_id": "9e8c05bf7c5749248abea5c02e515b85",
       "version_major": 2,
       "version_minor": 0
      },
      "text/plain": [
       "Eval Loop:   0%|          | 0/64 [00:00<?, ?it/s]"
      ]
     },
     "metadata": {},
     "output_type": "display_data"
    },
    {
     "name": "stdout",
     "output_type": "stream",
     "text": [
      "abblation_ours_ckpt: p_loss=0.453 v_loss=1.272 time=103.034ms\n"
     ]
    },
    {
     "data": {
      "application/vnd.jupyter.widget-view+json": {
       "model_id": "f9c9cfd87924452593eb3d6b9ffdf545",
       "version_major": 2,
       "version_minor": 0
      },
      "text/plain": [
       "Iter Loop:   0%|          | 0/4 [00:00<?, ?it/s]"
      ]
     },
     "metadata": {},
     "output_type": "display_data"
    },
    {
     "data": {
      "application/vnd.jupyter.widget-view+json": {
       "model_id": "f3e2012889044f18848e02a7571b28d7",
       "version_major": 2,
       "version_minor": 0
      },
      "text/plain": [
       "Eval Loop:   0%|          | 0/64 [00:00<?, ?it/s]"
      ]
     },
     "metadata": {},
     "output_type": "display_data"
    },
    {
     "name": "stdout",
     "output_type": "stream",
     "text": [
      "abblation_wo_neural_weights: p_loss=0.680 v_loss=1.860 time=74.130ms\n"
     ]
    },
    {
     "data": {
      "application/vnd.jupyter.widget-view+json": {
       "model_id": "65b319e03781467fab423be5cab283e0",
       "version_major": 2,
       "version_minor": 0
      },
      "text/plain": [
       "Iter Loop:   0%|          | 0/4 [00:00<?, ?it/s]"
      ]
     },
     "metadata": {},
     "output_type": "display_data"
    },
    {
     "data": {
      "application/vnd.jupyter.widget-view+json": {
       "model_id": "936b8ac1290c41248a9483c2b7fc5d6a",
       "version_major": 2,
       "version_minor": 0
      },
      "text/plain": [
       "Eval Loop:   0%|          | 0/64 [00:00<?, ?it/s]"
      ]
     },
     "metadata": {},
     "output_type": "display_data"
    },
    {
     "name": "stdout",
     "output_type": "stream",
     "text": [
      "abblation_wo_neural_prior: p_loss=0.455 v_loss=1.442 time=100.013ms\n"
     ]
    },
    {
     "data": {
      "application/vnd.jupyter.widget-view+json": {
       "model_id": "b63d7be0b9304ad9b717e95916ab97e7",
       "version_major": 2,
       "version_minor": 0
      },
      "text/plain": [
       "Iter Loop:   0%|          | 0/4 [00:00<?, ?it/s]"
      ]
     },
     "metadata": {},
     "output_type": "display_data"
    },
    {
     "data": {
      "application/vnd.jupyter.widget-view+json": {
       "model_id": "f57a85598fe24babb7c18fcaece0187e",
       "version_major": 2,
       "version_minor": 0
      },
      "text/plain": [
       "Eval Loop:   0%|          | 0/64 [00:00<?, ?it/s]"
      ]
     },
     "metadata": {},
     "output_type": "display_data"
    },
    {
     "name": "stdout",
     "output_type": "stream",
     "text": [
      "abblation_w_single_corresp: p_loss=0.596 v_loss=1.428 time=87.805ms\n"
     ]
    },
    {
     "data": {
      "application/vnd.jupyter.widget-view+json": {
       "model_id": "76ff4bf289084d148953bcb14283acbe",
       "version_major": 2,
       "version_minor": 0
      },
      "text/plain": [
       "Iter Loop:   0%|          | 0/4 [00:00<?, ?it/s]"
      ]
     },
     "metadata": {},
     "output_type": "display_data"
    },
    {
     "data": {
      "application/vnd.jupyter.widget-view+json": {
       "model_id": "86cc0ae58b324d5fb7a3ac9b00d480cd",
       "version_major": 2,
       "version_minor": 0
      },
      "text/plain": [
       "Eval Loop:   0%|          | 0/64 [00:00<?, ?it/s]"
      ]
     },
     "metadata": {},
     "output_type": "display_data"
    },
    {
     "name": "stdout",
     "output_type": "stream",
     "text": [
      "abblation_wo_end_to_end: p_loss=0.473 v_loss=1.349 time=102.117ms\n",
      "abblation_w_single_optim: p_loss=0.473 v_loss=1.349 time=102.117ms\n"
     ]
    }
   ],
   "source": [
    "path = ours\n",
    "optimizer = load_neural_optimizer(flame, renderer, path)\n",
    "p_loss, v_loss, time = eval_iterations(optimizer, datamodule, N=N, value=value, mode=\"iters\")\n",
    "key = path_to_abblation(path)\n",
    "times[key] = time[N].median().item()\n",
    "p_losses[key] = p_loss[N].mean().item()\n",
    "v_losses[key] = v_loss[N].mean().item()\n",
    "print(f\"{key}: p_loss={p_losses[key]:.03f} v_loss={v_losses[key]:.03f} time={times[key]:.03f}ms\")\n",
    "\n",
    "path = wo_neural_weights\n",
    "optimizer = load_neural_optimizer(flame, renderer, path)\n",
    "p_loss, v_loss, time = eval_iterations(optimizer, datamodule, N=N, value=value, mode=\"iters\")\n",
    "key = path_to_abblation(path)\n",
    "times[key] = time[N].median().item()\n",
    "p_losses[key] = p_loss[N].mean().item()\n",
    "v_losses[key] = v_loss[N].mean().item()\n",
    "print(f\"{key}: p_loss={p_losses[key]:.03f} v_loss={v_losses[key]:.03f} time={times[key]:.03f}ms\")\n",
    "\n",
    "path = wo_neural_prior\n",
    "optimizer = load_neural_optimizer1(flame, renderer, path)\n",
    "p_loss, v_loss, time = eval_iterations(optimizer, datamodule, N=N, value=value, mode=\"iters\")\n",
    "key = path_to_abblation(path)\n",
    "times[key] = time[N].median().item()\n",
    "p_losses[key] = p_loss[N].mean().item()\n",
    "v_losses[key] = v_loss[N].mean().item()\n",
    "print(f\"{key}: p_loss={p_losses[key]:.03f} v_loss={v_losses[key]:.03f} time={times[key]:.03f}ms\")\n",
    "\n",
    "path = w_single_corresp\n",
    "optimizer = load_neural_optimizer(flame, renderer, path)\n",
    "p_loss, v_loss, time = eval_iterations(optimizer, datamodule, N=N, value=value, mode=\"optims\")\n",
    "key = path_to_abblation(path)\n",
    "times[key] = time[N].median().item()\n",
    "p_losses[key] = p_loss[N].mean().item()\n",
    "v_losses[key] = v_loss[N].mean().item()\n",
    "print(f\"{key}: p_loss={p_losses[key]:.03f} v_loss={v_losses[key]:.03f} time={times[key]:.03f}ms\")\n",
    "\n",
    "path = w_single_optim\n",
    "optimizer = load_neural_optimizer(flame, renderer, path)\n",
    "p_loss, v_loss, time = eval_iterations(optimizer, datamodule, N=N, value=value, mode=\"iters\")\n",
    "key = \"abblation_wo_end_to_end\"\n",
    "times[key] = time[N].median().item()\n",
    "p_losses[key] = p_loss[N].mean().item()\n",
    "v_losses[key] = v_loss[N].mean().item()\n",
    "print(f\"{key}: p_loss={p_losses[key]:.03f} v_loss={v_losses[key]:.03f} time={times[key]:.03f}ms\")\n",
    "key = path_to_abblation(path)\n",
    "times[key] = time[1].median().item()\n",
    "p_losses[key] = p_loss[1].mean().item()\n",
    "v_losses[key] = v_loss[1].mean().item()\n",
    "print(f\"{key}: p_loss={p_losses[key]:.03f} v_loss={v_losses[key]:.03f} time={times[key]:.03f}ms\")\n"
   ]
  },
  {
   "cell_type": "code",
   "execution_count": 5,
   "metadata": {},
   "outputs": [
    {
     "name": "stdout",
     "output_type": "stream",
     "text": [
      "abblation_w_single_optim: p_loss=0.888 v_loss=2.952 time=34.089ms\n"
     ]
    }
   ],
   "source": [
    "times[key] = time[1].median().item()\n",
    "p_losses[key] = p_loss[1].mean().item()\n",
    "v_losses[key] = v_loss[1].mean().item()\n",
    "print(f\"{key}: p_loss={p_losses[key]:.03f} v_loss={v_losses[key]:.03f} time={times[key]:.03f}ms\")"
   ]
  },
  {
   "cell_type": "code",
   "execution_count": null,
   "metadata": {},
   "outputs": [],
   "source": [
    "N = 15\n",
    "step_size = 0.3\n",
    "\n",
    "optimizer = load_icp_optimizer(flame, renderer, [\"residuals=face2face\", \"weighting=dummy\", \"regularize=dummy\"])\n",
    "optimizer.optimizer.step_size=step_size\n",
    "loss, time = eval_iterations(optimizer, datamodule, N=N, value=value)\n",
    "f2f_loss = loss\n",
    "print(\"icp-f2f\")\n",
    "print({k: v.mean().item() for k, v in loss.items()})\n",
    "\n",
    "optimizer = load_icp_optimizer(flame, renderer, [\"residuals=point2plane\", \"weighting=dummy\", \"regularize=dummy\"])\n",
    "optimizer.optimizer.step_size=step_size\n",
    "loss, time = eval_iterations(optimizer, datamodule, N=N, value=value)\n",
    "p2p_loss = loss\n",
    "print(\"icp-p2p\")\n",
    "print({k: v.mean().item() for k, v in loss.items()})\n",
    "\n",
    "optimizer = load_neural_optimizer(flame, renderer, ours)\n",
    "optimizer.optimizer.step_size=step_size\n",
    "loss, time = eval_iterations(optimizer, datamodule, N=N, value=value, mode=\"iters\")\n",
    "ours_loss = loss\n",
    "print(\"ours\")\n",
    "print({k: v.mean().item() for k, v in loss.items()})\n",
    "\n",
    "optimizer = load_neural_optimizer(flame, renderer, w_single_optim)\n",
    "optimizer.optimizer.step_size=step_size\n",
    "loss, time = eval_iterations(optimizer, datamodule, N=N, value=value, mode=\"iters\")\n",
    "w_single_optim_loss = loss\n",
    "print(\"w_single_optim\")\n",
    "print({k: v.mean().item() for k, v in loss.items()})\n",
    "\n",
    "optimizer = load_neural_optimizer(flame, renderer, w_multi5_optim)\n",
    "optimizer.optimizer.step_size=step_size\n",
    "loss, time = eval_iterations(optimizer, datamodule, N=N, value=value, mode=\"iters\")\n",
    "w_single_optim_loss = loss\n",
    "print(\"w_multi5_optim\")\n",
    "print({k: v.mean().item() for k, v in loss.items()})"
   ]
  },
  {
   "cell_type": "code",
   "execution_count": null,
   "metadata": {},
   "outputs": [],
   "source": [
    "N = 1\n",
    "for key in [1.5, 1.2, 1.0, 0.5, 0.3, 0.1]:\n",
    "    optimizer = load_icp_optimizer(\n",
    "        flame,\n",
    "        renderer,\n",
    "        [\n",
    "            \"residuals=face2face\",\n",
    "            \"weighting=dummy\",\n",
    "            \"regularize=dummy\",\n",
    "            f\"optimizer.step_size={key}\",\n",
    "        ],\n",
    "    )\n",
    "    loss, time = eval_iterations(optimizer, datamodule, N=N, value=value)\n",
    "    time = time[N].median().item()\n",
    "    loss = loss[N].mean().item()\n",
    "    print(f\"{key}: loss={loss:.03f} time={time:.03f}ms\")"
   ]
  },
  {
   "cell_type": "code",
   "execution_count": 6,
   "metadata": {},
   "outputs": [
    {
     "data": {
      "application/vnd.jupyter.widget-view+json": {
       "model_id": "56607ba263644143ae92930aa646c2b4",
       "version_major": 2,
       "version_minor": 0
      },
      "text/plain": [
       "Iter Loop:   0%|          | 0/11 [00:00<?, ?it/s]"
      ]
     },
     "metadata": {},
     "output_type": "display_data"
    },
    {
     "data": {
      "application/vnd.jupyter.widget-view+json": {
       "model_id": "46cf6d5003ef4b05b34d8c1ae88222f6",
       "version_major": 2,
       "version_minor": 0
      },
      "text/plain": [
       "Eval Loop:   0%|          | 0/64 [00:00<?, ?it/s]"
      ]
     },
     "metadata": {},
     "output_type": "display_data"
    },
    {
     "name": "stdout",
     "output_type": "stream",
     "text": [
      "{0: 1.106330394744873, 1: 0.9125279188156128, 2: 0.7722384929656982, 3: 0.6653082370758057, 4: 0.5798033475875854, 5: 0.5109332799911499, 6: 0.45523637533187866, 7: 0.4122035801410675, 8: 0.3808237314224243, 9: 0.3568297028541565, 10: 0.3395838141441345}\n"
     ]
    }
   ],
   "source": [
    "optimizer = load_icp_optimizer(\n",
    "    flame,\n",
    "    renderer,\n",
    "    [\n",
    "        \"residuals=face2face\",\n",
    "        \"weighting=dummy\",\n",
    "        \"regularize=dummy\",\n",
    "        \"optimizer.step_size=0.3\",\n",
    "    ],\n",
    ")\n",
    "loss, time = eval_iterations(optimizer, datamodule, N=10, value=value)\n",
    "print({k: v.mean().item() for k, v in loss.items()})"
   ]
  },
  {
   "cell_type": "code",
   "execution_count": 7,
   "metadata": {},
   "outputs": [
    {
     "data": {
      "application/vnd.jupyter.widget-view+json": {
       "model_id": "4780115ac5e14af897bb659f2ea88daf",
       "version_major": 2,
       "version_minor": 0
      },
      "text/plain": [
       "Iter Loop:   0%|          | 0/11 [00:00<?, ?it/s]"
      ]
     },
     "metadata": {},
     "output_type": "display_data"
    },
    {
     "data": {
      "application/vnd.jupyter.widget-view+json": {
       "model_id": "1382c337334e4c1081fdf15ff19a43c8",
       "version_major": 2,
       "version_minor": 0
      },
      "text/plain": [
       "Eval Loop:   0%|          | 0/64 [00:00<?, ?it/s]"
      ]
     },
     "metadata": {},
     "output_type": "display_data"
    },
    {
     "name": "stdout",
     "output_type": "stream",
     "text": [
      "{0: 1.106330394744873, 1: 0.9796736836433411, 2: 0.8573685884475708, 3: 0.734616756439209, 4: 0.6181066036224365, 5: 0.5166778564453125, 6: 0.4289867579936981, 7: 0.3500504791736603, 8: 0.2810255289077759, 9: 0.2250758558511734, 10: 0.17759031057357788}\n"
     ]
    }
   ],
   "source": [
    "optimizer = load_icp_optimizer(\n",
    "    flame,\n",
    "    renderer,\n",
    "    [\n",
    "        \"residuals=face2face\",\n",
    "        \"weighting=dummy\",\n",
    "        \"regularize=dummy\",\n",
    "        \"optimizer.step_size=0.3\",\n",
    "        \"residuals=point2plane\",\n",
    "    ],\n",
    ")\n",
    "loss, time = eval_iterations(optimizer, datamodule, N=10, value=value)\n",
    "print({k: v.mean().item() for k, v in loss.items()})"
   ]
  },
  {
   "cell_type": "code",
   "execution_count": 3,
   "metadata": {},
   "outputs": [
    {
     "data": {
      "application/vnd.jupyter.widget-view+json": {
       "model_id": "e30ee9012be340c2a2b38139dd09c927",
       "version_major": 2,
       "version_minor": 0
      },
      "text/plain": [
       "Iter Loop:   0%|          | 0/11 [00:00<?, ?it/s]"
      ]
     },
     "metadata": {},
     "output_type": "display_data"
    },
    {
     "data": {
      "application/vnd.jupyter.widget-view+json": {
       "model_id": "e22f4879d7324e06bedd526dd5ea21af",
       "version_major": 2,
       "version_minor": 0
      },
      "text/plain": [
       "Eval Loop:   0%|          | 0/64 [00:00<?, ?it/s]"
      ]
     },
     "metadata": {},
     "output_type": "display_data"
    },
    {
     "name": "stdout",
     "output_type": "stream",
     "text": [
      "{0: 1.106330394744873, 1: 0.9070441126823425, 2: 0.6426444053649902, 3: 0.4527263343334198, 4: 0.32129523158073425, 5: 0.23044875264167786, 6: 0.1678021252155304, 7: 0.1253141313791275, 8: 0.09685653448104858, 9: 0.07840365916490555, 10: 0.06724165380001068}\n"
     ]
    }
   ],
   "source": [
    "path = \"/home/borth/GuidedResearch/logs/2024-10-06/06-55-55_abblation_ours_ckpt/checkpoints/last.ckpt\"\n",
    "optimizer = load_neural_optimizer(flame, renderer, path)\n",
    "loss, time = eval_iterations(optimizer, datamodule, N=10, value=value, mode=\"iters\")\n",
    "print({k: v.mean().item() for k, v in loss.items()})"
   ]
  }
 ],
 "metadata": {
  "kernelspec": {
   "display_name": "guided",
   "language": "python",
   "name": "python3"
  },
  "language_info": {
   "codemirror_mode": {
    "name": "ipython",
    "version": 3
   },
   "file_extension": ".py",
   "mimetype": "text/x-python",
   "name": "python",
   "nbconvert_exporter": "python",
   "pygments_lexer": "ipython3",
   "version": "3.10.14"
  }
 },
 "nbformat": 4,
 "nbformat_minor": 2
}
