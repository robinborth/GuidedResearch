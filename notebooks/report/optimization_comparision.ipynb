{
 "cells": [
  {
   "cell_type": "code",
   "execution_count": 20,
   "metadata": {},
   "outputs": [],
   "source": [
    "import hydra\n",
    "import torch\n",
    "from tqdm.notebook import tqdm\n",
    "from lib.utils.config import load_config\n",
    "from lib.optimizer.framework import NeuralOptimizer\n",
    "from lib.data.loader import load_intrinsics\n",
    "from lib.data.loader import load_intrinsics\n",
    "from lib.rasterizer import Rasterizer\n",
    "from lib.renderer.renderer import Renderer\n",
    "from lib.renderer.camera import Camera\n",
    "from lib.tracker.timer import TimeTracker\n",
    "from lib.utils.progress import reset_progress, close_progress\n",
    "\n",
    "\n",
    "def path_to_abblation(path):\n",
    "    return \"_\".join(path.split(\"/\")[-3].split(\"_\")[1:])\n",
    "\n",
    "\n",
    "def eval_iterations(optimizer, datamodule, N: int = 1, mode=\"iters\"):\n",
    "    optimizer.max_iters = 1\n",
    "    optimizer.max_optims = 1\n",
    "\n",
    "    outer_progress = tqdm(total=N + 1, desc=\"Iter Loop\", position=0)\n",
    "    total_evals = len(datamodule.val_dataset)\n",
    "    inner_progress = tqdm(total=total_evals, desc=\"Eval Loop\", leave=True, position=1)\n",
    "\n",
    "    iters_p_loss = {}\n",
    "    iters_v_loss = {}\n",
    "    iters_time = {}\n",
    "\n",
    "    # initial evaluation no optimization\n",
    "    reset_progress(inner_progress, total_evals)\n",
    "    p_loss = []\n",
    "    v_loss = []\n",
    "    for batch in datamodule.val_dataloader():\n",
    "        with torch.no_grad():\n",
    "            batch = optimizer.transfer_batch_to_device(batch, \"cuda\", 0)\n",
    "            out = optimizer(batch)\n",
    "            out[\"params\"] = batch[\"init_params\"]\n",
    "            loss_info = optimizer.compute_loss(batch=batch, out=out)\n",
    "            p_loss.append(loss_info[\"loss_param\"])\n",
    "            v_loss.append(loss_info[\"loss_vertices\"])\n",
    "        inner_progress.update(1)\n",
    "    iters_p_loss[0] = torch.stack(p_loss)\n",
    "    iters_v_loss[0] = torch.stack(v_loss)\n",
    "    iters_time[0] = torch.zeros_like(iters_p_loss[0])\n",
    "    outer_progress.update(1)\n",
    "\n",
    "    # evaluation after some optimization\n",
    "    for iters in range(1, N + 1):\n",
    "        reset_progress(inner_progress, total_evals)\n",
    "        if mode == \"iters\":\n",
    "            optimizer.max_iters = iters\n",
    "        else:\n",
    "            optimizer.max_optims = iters\n",
    "        time_tracker = TimeTracker()\n",
    "        p_loss = []\n",
    "        v_loss = []\n",
    "        for batch in datamodule.val_dataloader():\n",
    "            with torch.no_grad():\n",
    "                batch = optimizer.transfer_batch_to_device(batch, \"cuda\", 0)\n",
    "                time_tracker.start(\"optimize\")\n",
    "                out = optimizer(batch)\n",
    "                time_tracker.stop(\"optimize\")\n",
    "                loss_info = optimizer.compute_loss(batch=batch, out=out)\n",
    "                p_loss.append(loss_info[\"loss_param\"])\n",
    "                v_loss.append(loss_info[\"loss_vertices\"])\n",
    "            inner_progress.update(1)\n",
    "        iters_p_loss[iters] = torch.stack(p_loss)\n",
    "        iters_v_loss[iters] = torch.stack(v_loss)\n",
    "        iters_time[iters] = torch.stack(\n",
    "            [torch.tensor(t.time_ms) for t in list(time_tracker.tracks.values())[0]]\n",
    "        )\n",
    "        outer_progress.update(1)\n",
    "    close_progress([outer_progress, inner_progress])\n",
    "    return iters_p_loss, iters_v_loss, iters_time\n",
    "\n",
    "\n",
    "def load_flame_renderer():\n",
    "    # instanciate similar to training\n",
    "    cfg = load_config(\"train\", [\"data=synthetic\"])\n",
    "    K = load_intrinsics(data_dir=cfg.data.intrinsics_dir, return_tensor=\"pt\")\n",
    "    camera = Camera(\n",
    "        K=K,\n",
    "        width=cfg.data.width,\n",
    "        height=cfg.data.height,\n",
    "        near=cfg.data.near,\n",
    "        far=cfg.data.far,\n",
    "        scale=cfg.data.scale,\n",
    "    )\n",
    "    rasterizer = Rasterizer(width=camera.width, height=camera.height)\n",
    "    renderer = Renderer(rasterizer=rasterizer, camera=camera)\n",
    "    flame = hydra.utils.instantiate(cfg.model)\n",
    "    return flame, renderer\n",
    "\n",
    "\n",
    "def load_neural_optimizer(flame, renderer, path, override=[]):\n",
    "    o = [\"data=synthetic\"] + override\n",
    "    cfg = load_config(\"train\", o)\n",
    "    correspondence = hydra.utils.instantiate(cfg.correspondence)\n",
    "    weighting = hydra.utils.instantiate(cfg.weighting)\n",
    "    residuals = hydra.utils.instantiate(cfg.residuals)\n",
    "    regularize = hydra.utils.instantiate(cfg.regularize)\n",
    "    neural_optimizer = NeuralOptimizer.load_from_checkpoint(\n",
    "        path,\n",
    "        renderer=renderer,\n",
    "        flame=flame,\n",
    "        correspondence=correspondence,\n",
    "        regularize=regularize,\n",
    "        residuals=residuals,\n",
    "        weighting=weighting,\n",
    "    )\n",
    "    return neural_optimizer\n",
    "\n",
    "def load_icp_optimizer(flame, renderer, overrides):\n",
    "    cfg = load_config(\n",
    "        \"train\", [\"data=synthetic\", \"optimizer.output_dir=none\"] + overrides\n",
    "    )\n",
    "    correspondence = hydra.utils.instantiate(cfg.correspondence)\n",
    "    weighting = hydra.utils.instantiate(cfg.weighting)\n",
    "    residuals = hydra.utils.instantiate(cfg.residuals)\n",
    "    optimizer = hydra.utils.instantiate(cfg.optimizer)\n",
    "    regularize = hydra.utils.instantiate(cfg.regularize)\n",
    "    icp_optimizer = hydra.utils.instantiate(\n",
    "        cfg.framework,\n",
    "        flame=flame,\n",
    "        logger=None,\n",
    "        renderer=renderer,\n",
    "        correspondence=correspondence,\n",
    "        regularize=regularize,\n",
    "        residuals=residuals,\n",
    "        optimizer=optimizer,\n",
    "        weighting=weighting,\n",
    "    )\n",
    "    return icp_optimizer.to(\"cuda\")\n",
    "\n",
    "\n",
    "# setup the datamodule\n",
    "def load_datamodule(renderer, start_frame, end_frame):\n",
    "    cfg = load_config(\"train\", [\"data=synthetic\"])\n",
    "    datamodule = hydra.utils.instantiate(\n",
    "        cfg.data,\n",
    "        renderer=renderer,\n",
    "        val_dataset=dict(\n",
    "            start_frame=start_frame,\n",
    "            end_frame=end_frame,\n",
    "        ),\n",
    "    )\n",
    "    datamodule.setup(\"fit\")\n",
    "    return datamodule"
   ]
  },
  {
   "cell_type": "code",
   "execution_count": 17,
   "metadata": {},
   "outputs": [
    {
     "name": "stdout",
     "output_type": "stream",
     "text": [
      "Creating GL context for cuda device 0\n",
      "Successfully initialized EGL version 1.5\n",
      "Successfully initialized OpenGL version 4.6.0 NVIDIA 535.183.01\n"
     ]
    }
   ],
   "source": [
    "# settings\n",
    "N = 10\n",
    "step_size = 0.7\n",
    "start_frame = 10\n",
    "end_frame = 18\n",
    "\n",
    "# checkpoints\n",
    "wo_neural_weights = \"/home/borth/GuidedResearch/checkpoints/synthetic_lr/wo_neural_weights.ckpt\"\n",
    "ours = \"/home/borth/GuidedResearch/checkpoints/synthetic_lr/ours2.ckpt\"\n",
    "\n",
    "# loadings\n",
    "times = {}\n",
    "p_losses = {}\n",
    "v_losses = {}\n",
    "flame, renderer = load_flame_renderer()\n",
    "datamodule = load_datamodule(renderer, start_frame, end_frame)"
   ]
  },
  {
   "cell_type": "code",
   "execution_count": 19,
   "metadata": {},
   "outputs": [
    {
     "data": {
      "application/vnd.jupyter.widget-view+json": {
       "model_id": "b0623177afa044d78c94f822e1ed63eb",
       "version_major": 2,
       "version_minor": 0
      },
      "text/plain": [
       "Iter Loop:   0%|          | 0/11 [00:00<?, ?it/s]"
      ]
     },
     "metadata": {},
     "output_type": "display_data"
    },
    {
     "data": {
      "application/vnd.jupyter.widget-view+json": {
       "model_id": "3cf824a0b24f4be89e5f545048890fa1",
       "version_major": 2,
       "version_minor": 0
      },
      "text/plain": [
       "Eval Loop:   0%|          | 0/64 [00:00<?, ?it/s]"
      ]
     },
     "metadata": {},
     "output_type": "display_data"
    },
    {
     "data": {
      "application/vnd.jupyter.widget-view+json": {
       "model_id": "aa943da806084cfa9dae80e8049e4680",
       "version_major": 2,
       "version_minor": 0
      },
      "text/plain": [
       "Iter Loop:   0%|          | 0/11 [00:00<?, ?it/s]"
      ]
     },
     "metadata": {},
     "output_type": "display_data"
    },
    {
     "data": {
      "application/vnd.jupyter.widget-view+json": {
       "model_id": "9892eedf09904f699d2035ca96013099",
       "version_major": 2,
       "version_minor": 0
      },
      "text/plain": [
       "Eval Loop:   0%|          | 0/64 [00:00<?, ?it/s]"
      ]
     },
     "metadata": {},
     "output_type": "display_data"
    },
    {
     "data": {
      "application/vnd.jupyter.widget-view+json": {
       "model_id": "99e039fd5799455c84f4186b0f09c22c",
       "version_major": 2,
       "version_minor": 0
      },
      "text/plain": [
       "Iter Loop:   0%|          | 0/11 [00:00<?, ?it/s]"
      ]
     },
     "metadata": {},
     "output_type": "display_data"
    },
    {
     "data": {
      "application/vnd.jupyter.widget-view+json": {
       "model_id": "ff3df2252d37422d976b02cd3a5d7584",
       "version_major": 2,
       "version_minor": 0
      },
      "text/plain": [
       "Eval Loop:   0%|          | 0/64 [00:00<?, ?it/s]"
      ]
     },
     "metadata": {},
     "output_type": "display_data"
    },
    {
     "data": {
      "application/vnd.jupyter.widget-view+json": {
       "model_id": "cb927981e0ff408b9b346e8d561dbe95",
       "version_major": 2,
       "version_minor": 0
      },
      "text/plain": [
       "Iter Loop:   0%|          | 0/11 [00:00<?, ?it/s]"
      ]
     },
     "metadata": {},
     "output_type": "display_data"
    },
    {
     "data": {
      "application/vnd.jupyter.widget-view+json": {
       "model_id": "6027bdbb6d1c418e9ab8b0f56e8c0077",
       "version_major": 2,
       "version_minor": 0
      },
      "text/plain": [
       "Eval Loop:   0%|          | 0/64 [00:00<?, ?it/s]"
      ]
     },
     "metadata": {},
     "output_type": "display_data"
    }
   ],
   "source": [
    "path = ours\n",
    "optimizer = load_neural_optimizer(flame, renderer, path)\n",
    "optimizer.optimizer.step_size = step_size\n",
    "p_loss, v_loss, time = eval_iterations(optimizer, datamodule, N=N, mode=\"iters\")\n",
    "key = \"ours\"\n",
    "times[key] = time[N].median().item()\n",
    "p_losses[key] = {k: v.mean().item() for k, v in p_loss.items()}\n",
    "v_losses[key] = {k: v.mean().item() for k, v in v_loss.items()}\n",
    "\n",
    "path = wo_neural_weights\n",
    "overrides = [\"weighting.dummy_weight=True\"]\n",
    "optimizer = load_neural_optimizer(flame, renderer, path, overrides)\n",
    "optimizer.optimizer.step_size = step_size\n",
    "p_loss, v_loss, time = eval_iterations(optimizer, datamodule, N=N, mode=\"iters\")\n",
    "key = \"wo_neural_weights\"\n",
    "times[key] = time[N].median().item()\n",
    "p_losses[key] = {k: v.mean().item() for k, v in p_loss.items()}\n",
    "v_losses[key] = {k: v.mean().item() for k, v in v_loss.items()}\n",
    "\n",
    "overrides = [\"weighting=dummy\", \"regularize=dummy\"]\n",
    "optimizer = load_icp_optimizer(flame, renderer, overrides)\n",
    "optimizer.optimizer.step_size = step_size\n",
    "p_loss, v_loss, time = eval_iterations(optimizer, datamodule, N=N)\n",
    "key = \"icp-f2f\"\n",
    "p_losses[key] = {k: v.mean().item() for k, v in p_loss.items()}\n",
    "v_losses[key] = {k: v.mean().item() for k, v in v_loss.items()}\n",
    "\n",
    "overrides = [\"residuals=point2plane\", \"weighting=dummy\", \"regularize=dummy\"]\n",
    "optimizer = load_icp_optimizer(flame, renderer, overrides)\n",
    "optimizer.optimizer.step_size = step_size\n",
    "p_loss, v_loss, time = eval_iterations(optimizer, datamodule, N=N)\n",
    "key = \"icp-p2p\"\n",
    "p_losses[key] = {k: v.mean().item() for k, v in p_loss.items()}\n",
    "v_losses[key] = {k: v.mean().item() for k, v in v_loss.items()}\n",
    "\n",
    "data = dict(p_losses=p_losses, v_losses=v_losses)\n",
    "torch.save(data, \"results/optimization_iterations.pth\")"
   ]
  },
  {
   "cell_type": "code",
   "execution_count": 1,
   "metadata": {},
   "outputs": [],
   "source": [
    "import matplotlib.pyplot as plt\n",
    "from matplotlib.patches import Rectangle, FancyBboxPatch\n",
    "import torch\n",
    "\n",
    "# Load the data\n",
    "p_losses = torch.load(\"/home/borth/GuidedResearch/results/optimization_iterations.pth\")[\"p_losses\"]\n",
    "\n",
    "# store the data\n",
    "data = {}\n",
    "data[\"Ours w/ neural weight\"] = p_losses[\"ours\"]\n",
    "data[\"Ours w/o neural weight\"] = p_losses[\"wo_neural_weights\"]\n",
    "data[\"ICP w/ reg.\"] = p_losses[\"icp-f2f\"]\n",
    "data[\"ICP w/o reg.\"] = p_losses[\"icp-p2p\"]"
   ]
  },
  {
   "cell_type": "code",
   "execution_count": 5,
   "metadata": {},
   "outputs": [
    {
     "data": {
      "image/png": "[encoded data removed]",
      "text/plain": [
       "<Figure size 800x400 with 1 Axes>"
      ]
     },
     "metadata": {},
     "output_type": "display_data"
    }
   ],
   "source": [
    "# Create a figure and axis\n",
    "fig, ax = plt.subplots(figsize=(8, 4))\n",
    "\n",
    "# Plot each line\n",
    "colors = plt.get_cmap(\"Set2\", 8)  # 8\n",
    "for i, (label, values) in enumerate(data.items()):\n",
    "    x = list(values.keys())  # X axis (the steps, 0, 1, 2)\n",
    "    y = list(values.values())  # Y axis (the corresponding values)\n",
    "    ax.plot(\n",
    "        x,\n",
    "        y,\n",
    "        label=label,\n",
    "        marker=\"o\",\n",
    "        linestyle=\"-\",\n",
    "        linewidth=1.5,\n",
    "        color=colors.colors[i],\n",
    "    )\n",
    "\n",
    "# Add labels and title\n",
    "ax.set_xlabel(\"Optimization Step\")\n",
    "ax.set_ylabel(\"FLAME distance\")\n",
    "ax.legend()\n",
    "\n",
    "# Show the plot\n",
    "ax.set_ylim(bottom=0, top=1.2)  # Set minimum y-axis limit to 0\n",
    "ax.set_xlim(left=-0.2)  # Set minimum y-axis limit to 0\n",
    "ax.yaxis.grid(True)\n",
    "\n",
    "\n",
    "# Highlight the points at step size 2 with a red dotted box\n",
    "box_x = [1.8, 2.2]  # x-coordinate limits for the box\n",
    "box_y = [0.10, 1.0]  # y-coordinate limits for the box\n",
    "box_width = 0.4  # Width of the box\n",
    "box_height = 0.6  # Height of the box\n",
    "\n",
    "# Create a red dotted rectangle\n",
    "rect = Rectangle(\n",
    "    (box_x[0], box_y[0]),\n",
    "    box_width,\n",
    "    box_height,\n",
    "    linewidth=2,\n",
    "    edgecolor=\"red\",\n",
    "    facecolor=\"none\",\n",
    "    linestyle=\"--\",\n",
    ")\n",
    "rect = FancyBboxPatch(\n",
    "    (box_x[0], box_y[0]),  # Position\n",
    "    box_width,             # Width of the rectangle\n",
    "    box_height,            # Height of the rectangle\n",
    "    boxstyle=\"round,pad=0.0,rounding_size=0.05\",  # Rounded corners\n",
    "    linewidth=2,           # Border thickness\n",
    "    edgecolor=\"red\",       # Border color\n",
    "    facecolor=\"none\",       # Background color (red)\n",
    "    alpha=1.0,             # Opacity of the background (30%)\n",
    "    linestyle=\"--\"         # Dotted border style\n",
    ")\n",
    "ax.add_patch(rect)\n",
    "\n",
    "# Remove spines for left, right, and top\n",
    "ax.spines[\"top\"].set_visible(False)  # Hide the top spine\n",
    "ax.spines[\"right\"].set_visible(False)  # Hide the right spine\n",
    "ax.spines[\"left\"].set_visible(False)  # Hide the left spine\n",
    "ax.spines[\"bottom\"].set_visible(True)\n",
    "\n",
    "# Remove tick marks on the y-axis\n",
    "ax.tick_params(axis=\"y\", direction=\"in\", length=0)  # Set tick length to 0 to hide them\n",
    "legend_elements = plt.Line2D([0], [0], color=\"red\", linestyle=\"--\", label=\"Real-time >20 FPS\")\n",
    "ax.legend(\n",
    "    handles=ax.get_legend_handles_labels()[0] + [legend_elements],\n",
    "    fontsize=\"12\",\n",
    "    loc=\"upper right\",\n",
    ")\n",
    "ax.set_xticks(range(0, 11))\n",
    "\n",
    "plt.tight_layout()  # Adjust layout to prevent overlap\n",
    "plt.savefig(\"results/optimization_iterations.pdf\", format=\"pdf\")\n",
    "plt.show()"
   ]
  }
 ],
 "metadata": {
  "kernelspec": {
   "display_name": "guided",
   "language": "python",
   "name": "python3"
  },
  "language_info": {
   "codemirror_mode": {
    "name": "ipython",
    "version": 3
   },
   "file_extension": ".py",
   "mimetype": "text/x-python",
   "name": "python",
   "nbconvert_exporter": "python",
   "pygments_lexer": "ipython3",
   "version": "3.10.14"
  }
 },
 "nbformat": 4,
 "nbformat_minor": 2
}
