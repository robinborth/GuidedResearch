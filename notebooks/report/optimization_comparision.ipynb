{
 "cells": [
  {
   "cell_type": "code",
   "execution_count": 1,
   "metadata": {},
   "outputs": [
    {
     "name": "stdout",
     "output_type": "stream",
     "text": [
      "Jupyter environment detected. Enabling Open3D WebVisualizer.\n",
      "[Open3D INFO] WebRTC GUI backend enabled.\n",
      "[Open3D INFO] WebRTCWindowSystem: HTTP handshake server disabled.\n"
     ]
    }
   ],
   "source": [
    "import hydra\n",
    "import torch\n",
    "from tqdm.notebook import tqdm\n",
    "from lib.utils.config import load_config\n",
    "from lib.optimizer.framework import NeuralOptimizer\n",
    "from lib.data.loader import load_intrinsics\n",
    "from lib.data.loader import load_intrinsics\n",
    "from lib.rasterizer import Rasterizer\n",
    "from lib.renderer.renderer import Renderer\n",
    "from lib.renderer.camera import Camera\n",
    "from lib.tracker.timer import TimeTracker\n",
    "from lib.utils.progress import reset_progress, close_progress\n",
    "\n",
    "\n",
    "def path_to_abblation(path):\n",
    "    return \"_\".join(path.split(\"/\")[-3].split(\"_\")[1:])\n",
    "\n",
    "\n",
    "def eval_iterations(optimizer, datamodule, N: int = 1, mode=\"iters\"):\n",
    "    optimizer.max_iters = 1\n",
    "    optimizer.max_optims = 1\n",
    "\n",
    "    outer_progress = tqdm(total=N + 1, desc=\"Iter Loop\", position=0)\n",
    "    total_evals = len(datamodule.val_dataset)\n",
    "    inner_progress = tqdm(total=total_evals, desc=\"Eval Loop\", leave=True, position=1)\n",
    "\n",
    "    iters_p_loss = {}\n",
    "    iters_v_loss = {}\n",
    "    iters_time = {}\n",
    "\n",
    "    # initial evaluation no optimization\n",
    "    reset_progress(inner_progress, total_evals)\n",
    "    p_loss = []\n",
    "    v_loss = []\n",
    "    for batch in datamodule.val_dataloader():\n",
    "        with torch.no_grad():\n",
    "            batch = optimizer.transfer_batch_to_device(batch, \"cuda\", 0)\n",
    "            out = optimizer(batch)\n",
    "            out[\"params\"] = batch[\"init_params\"]\n",
    "            loss_info = optimizer.compute_loss(batch=batch, out=out)\n",
    "            p_loss.append(loss_info[\"loss_param\"])\n",
    "            v_loss.append(loss_info[\"loss_vertices\"])\n",
    "        inner_progress.update(1)\n",
    "    iters_p_loss[0] = torch.stack(p_loss)\n",
    "    iters_v_loss[0] = torch.stack(v_loss)\n",
    "    iters_time[0] = torch.zeros_like(iters_p_loss[0])\n",
    "    outer_progress.update(1)\n",
    "\n",
    "    # evaluation after some optimization\n",
    "    for iters in range(1, N + 1):\n",
    "        reset_progress(inner_progress, total_evals)\n",
    "        if mode == \"iters\":\n",
    "            optimizer.max_iters = iters\n",
    "        else:\n",
    "            optimizer.max_optims = iters\n",
    "        time_tracker = TimeTracker()\n",
    "        p_loss = []\n",
    "        v_loss = []\n",
    "        for batch in datamodule.val_dataloader():\n",
    "            with torch.no_grad():\n",
    "                batch = optimizer.transfer_batch_to_device(batch, \"cuda\", 0)\n",
    "                time_tracker.start(\"optimize\")\n",
    "                out = optimizer(batch)\n",
    "                time_tracker.stop(\"optimize\")\n",
    "                loss_info = optimizer.compute_loss(batch=batch, out=out)\n",
    "                p_loss.append(loss_info[\"loss_param\"])\n",
    "                v_loss.append(loss_info[\"loss_vertices\"])\n",
    "            inner_progress.update(1)\n",
    "        iters_p_loss[iters] = torch.stack(p_loss)\n",
    "        iters_v_loss[iters] = torch.stack(v_loss)\n",
    "        iters_time[iters] = torch.stack(\n",
    "            [torch.tensor(t.time_ms) for t in list(time_tracker.tracks.values())[0]]\n",
    "        )\n",
    "        outer_progress.update(1)\n",
    "    close_progress([outer_progress, inner_progress])\n",
    "    return iters_p_loss, iters_v_loss, iters_time\n",
    "\n",
    "\n",
    "def load_flame_renderer():\n",
    "    # instanciate similar to training\n",
    "    cfg = load_config(\"train\", [\"data=synthetic\"])\n",
    "    K = load_intrinsics(data_dir=cfg.data.intrinsics_dir, return_tensor=\"pt\")\n",
    "    camera = Camera(\n",
    "        K=K,\n",
    "        width=cfg.data.width,\n",
    "        height=cfg.data.height,\n",
    "        near=cfg.data.near,\n",
    "        far=cfg.data.far,\n",
    "        scale=cfg.data.scale,\n",
    "    )\n",
    "    rasterizer = Rasterizer(width=camera.width, height=camera.height)\n",
    "    renderer = Renderer(rasterizer=rasterizer, camera=camera)\n",
    "    flame = hydra.utils.instantiate(cfg.model)\n",
    "    return flame, renderer\n",
    "\n",
    "\n",
    "def load_neural_optimizer(flame, renderer, path):\n",
    "    cfg = load_config(\"train\", [\"data=synthetic\"])\n",
    "    correspondence = hydra.utils.instantiate(cfg.correspondence)\n",
    "    weighting = hydra.utils.instantiate(cfg.weighting)\n",
    "    residuals = hydra.utils.instantiate(cfg.residuals)\n",
    "    regularize = hydra.utils.instantiate(cfg.regularize)\n",
    "    neural_optimizer = NeuralOptimizer.load_from_checkpoint(\n",
    "        path,\n",
    "        renderer=renderer,\n",
    "        flame=flame,\n",
    "        correspondence=correspondence,\n",
    "        regularize=regularize,\n",
    "        residuals=residuals,\n",
    "        weighting=weighting,\n",
    "    )\n",
    "    return neural_optimizer\n",
    "\n",
    "\n",
    "def load_icp_optimizer(flame, renderer, overrides):\n",
    "    cfg = load_config(\n",
    "        \"train\", [\"data=synthetic\", \"optimizer.output_dir=none\"] + overrides\n",
    "    )\n",
    "    correspondence = hydra.utils.instantiate(cfg.correspondence)\n",
    "    weighting = hydra.utils.instantiate(cfg.weighting)\n",
    "    residuals = hydra.utils.instantiate(cfg.residuals)\n",
    "    optimizer = hydra.utils.instantiate(cfg.optimizer)\n",
    "    regularize = hydra.utils.instantiate(cfg.regularize)\n",
    "    icp_optimizer = hydra.utils.instantiate(\n",
    "        cfg.framework,\n",
    "        flame=flame,\n",
    "        logger=None,\n",
    "        renderer=renderer,\n",
    "        correspondence=correspondence,\n",
    "        regularize=regularize,\n",
    "        residuals=residuals,\n",
    "        optimizer=optimizer,\n",
    "        weighting=weighting,\n",
    "    )\n",
    "    return icp_optimizer.to(\"cuda\")\n",
    "\n",
    "\n",
    "# setup the datamodule\n",
    "def load_datamodule(renderer, start_frame, end_frame):\n",
    "    cfg = load_config(\"train\", [\"data=synthetic\"])\n",
    "    datamodule = hydra.utils.instantiate(\n",
    "        cfg.data,\n",
    "        renderer=renderer,\n",
    "        val_dataset=dict(\n",
    "            start_frame=start_frame,\n",
    "            end_frame=end_frame,\n",
    "        ),\n",
    "    )\n",
    "    datamodule.setup(\"fit\")\n",
    "    return datamodule"
   ]
  },
  {
   "cell_type": "code",
   "execution_count": 37,
   "metadata": {},
   "outputs": [
    {
     "name": "stdout",
     "output_type": "stream",
     "text": [
      "Creating GL context for cuda device 0\n",
      "Successfully initialized EGL version 1.5\n",
      "Successfully initialized OpenGL version 4.6.0 NVIDIA 535.183.01\n"
     ]
    }
   ],
   "source": [
    "# settings\n",
    "N = 10\n",
    "step_size = 0.7\n",
    "start_frame = 10\n",
    "end_frame = 18\n",
    "\n",
    "# checkpoints\n",
    "ours = \"/home/borth/GuidedResearch/logs/2024-10-06/06-55-55_abblation_ours_ckpt/checkpoints/last.ckpt\"\n",
    "wo_neural_prior = \"/home/borth/GuidedResearch/logs/2024-10-04/22-44-20_abblation_wo_neural_prior/checkpoints/last.ckpt\"\n",
    "w_single_corresp = \"/home/borth/GuidedResearch/logs/2024-10-03/09-54-41_abblation_w_single_corresp/checkpoints/last.ckpt\"\n",
    "w_single_optim = \"/home/borth/GuidedResearch/logs/2024-10-06/12-55-40_abblation_w_single_optim/checkpoints/last.ckpt\"\n",
    "wo_neural_weights = \"/home/borth/GuidedResearch/logs/2024-10-03/09-54-41_abblation_wo_neural_weights/checkpoints/last.ckpt\"\n",
    "w_multi5_optim = \"/home/borth/GuidedResearch/logs/2024-10-08/14-59-53_abblation_w_multi5_optim_ckpt/checkpoints/last.ckpt\"\n",
    "\n",
    "ours1_lr = \"/home/borth/GuidedResearch/checkpoints/synthetic_lr/ours1.ckpt\"\n",
    "ours2_lr = \"/home/borth/GuidedResearch/checkpoints/synthetic_lr/ours2.ckpt\"\n",
    "ours3_lr = \"/home/borth/GuidedResearch/checkpoints/synthetic_lr/ours3.ckpt\"\n",
    "\n",
    "# loadings\n",
    "times = {}\n",
    "p_losses = {}\n",
    "v_losses = {}\n",
    "flame, renderer = load_flame_renderer()\n",
    "datamodule = load_datamodule(renderer, start_frame, end_frame)"
   ]
  },
  {
   "cell_type": "code",
   "execution_count": 38,
   "metadata": {},
   "outputs": [
    {
     "data": {
      "application/vnd.jupyter.widget-view+json": {
       "model_id": "08de10d0d2e645b3aabce6631385f551",
       "version_major": 2,
       "version_minor": 0
      },
      "text/plain": [
       "Iter Loop:   0%|          | 0/11 [00:00<?, ?it/s]"
      ]
     },
     "metadata": {},
     "output_type": "display_data"
    },
    {
     "data": {
      "application/vnd.jupyter.widget-view+json": {
       "model_id": "5546d6e03b9d4467b55eed11c1ca981e",
       "version_major": 2,
       "version_minor": 0
      },
      "text/plain": [
       "Eval Loop:   0%|          | 0/64 [00:00<?, ?it/s]"
      ]
     },
     "metadata": {},
     "output_type": "display_data"
    },
    {
     "data": {
      "application/vnd.jupyter.widget-view+json": {
       "model_id": "f3f46562f53841358e4aa90c826f870f",
       "version_major": 2,
       "version_minor": 0
      },
      "text/plain": [
       "Iter Loop:   0%|          | 0/11 [00:00<?, ?it/s]"
      ]
     },
     "metadata": {},
     "output_type": "display_data"
    },
    {
     "data": {
      "application/vnd.jupyter.widget-view+json": {
       "model_id": "7a12c6f6d5134e28917b0a36deebae77",
       "version_major": 2,
       "version_minor": 0
      },
      "text/plain": [
       "Eval Loop:   0%|          | 0/64 [00:00<?, ?it/s]"
      ]
     },
     "metadata": {},
     "output_type": "display_data"
    },
    {
     "data": {
      "application/vnd.jupyter.widget-view+json": {
       "model_id": "d4758f2010d84db5839c440791ef4276",
       "version_major": 2,
       "version_minor": 0
      },
      "text/plain": [
       "Iter Loop:   0%|          | 0/11 [00:00<?, ?it/s]"
      ]
     },
     "metadata": {},
     "output_type": "display_data"
    },
    {
     "data": {
      "application/vnd.jupyter.widget-view+json": {
       "model_id": "ebe94b5af94a4bfaa9075a33190ab14e",
       "version_major": 2,
       "version_minor": 0
      },
      "text/plain": [
       "Eval Loop:   0%|          | 0/64 [00:00<?, ?it/s]"
      ]
     },
     "metadata": {},
     "output_type": "display_data"
    },
    {
     "data": {
      "application/vnd.jupyter.widget-view+json": {
       "model_id": "4c10539151334de8b6af995fe5771a4b",
       "version_major": 2,
       "version_minor": 0
      },
      "text/plain": [
       "Iter Loop:   0%|          | 0/11 [00:00<?, ?it/s]"
      ]
     },
     "metadata": {},
     "output_type": "display_data"
    },
    {
     "data": {
      "application/vnd.jupyter.widget-view+json": {
       "model_id": "d494deffa5bc48c7a653fc6d900727ac",
       "version_major": 2,
       "version_minor": 0
      },
      "text/plain": [
       "Eval Loop:   0%|          | 0/64 [00:00<?, ?it/s]"
      ]
     },
     "metadata": {},
     "output_type": "display_data"
    },
    {
     "data": {
      "application/vnd.jupyter.widget-view+json": {
       "model_id": "5eb926f2afd54e4392456d944ce440e2",
       "version_major": 2,
       "version_minor": 0
      },
      "text/plain": [
       "Iter Loop:   0%|          | 0/11 [00:00<?, ?it/s]"
      ]
     },
     "metadata": {},
     "output_type": "display_data"
    },
    {
     "data": {
      "application/vnd.jupyter.widget-view+json": {
       "model_id": "c886ec5c1eef43978a6a832c11d4558b",
       "version_major": 2,
       "version_minor": 0
      },
      "text/plain": [
       "Eval Loop:   0%|          | 0/64 [00:00<?, ?it/s]"
      ]
     },
     "metadata": {},
     "output_type": "display_data"
    },
    {
     "data": {
      "application/vnd.jupyter.widget-view+json": {
       "model_id": "b8005e6afb114cf7bca8a6b791c8ae7b",
       "version_major": 2,
       "version_minor": 0
      },
      "text/plain": [
       "Iter Loop:   0%|          | 0/11 [00:00<?, ?it/s]"
      ]
     },
     "metadata": {},
     "output_type": "display_data"
    },
    {
     "data": {
      "application/vnd.jupyter.widget-view+json": {
       "model_id": "0f48ddb866a04af0be1b41d58ca8f35f",
       "version_major": 2,
       "version_minor": 0
      },
      "text/plain": [
       "Eval Loop:   0%|          | 0/64 [00:00<?, ?it/s]"
      ]
     },
     "metadata": {},
     "output_type": "display_data"
    },
    {
     "data": {
      "application/vnd.jupyter.widget-view+json": {
       "model_id": "44b218ed5caf4f26bbe4bd20ac120ac4",
       "version_major": 2,
       "version_minor": 0
      },
      "text/plain": [
       "Iter Loop:   0%|          | 0/11 [00:00<?, ?it/s]"
      ]
     },
     "metadata": {},
     "output_type": "display_data"
    },
    {
     "data": {
      "application/vnd.jupyter.widget-view+json": {
       "model_id": "2bf6c3d7c559469f86a9589d44c35000",
       "version_major": 2,
       "version_minor": 0
      },
      "text/plain": [
       "Eval Loop:   0%|          | 0/64 [00:00<?, ?it/s]"
      ]
     },
     "metadata": {},
     "output_type": "display_data"
    }
   ],
   "source": [
    "path = ours1_lr\n",
    "optimizer = load_neural_optimizer(flame, renderer, path)\n",
    "optimizer.optimizer.step_size = step_size\n",
    "p_loss, v_loss, time = eval_iterations(optimizer, datamodule, N=N, mode=\"iters\")\n",
    "key = \"ours1_lr\"\n",
    "times[key] = time[N].median().item()\n",
    "p_losses[key] = {k: v.mean().item() for k, v in p_loss.items()}\n",
    "v_losses[key] = {k: v.mean().item() for k, v in v_loss.items()}\n",
    "\n",
    "path = ours2_lr\n",
    "optimizer = load_neural_optimizer(flame, renderer, path)\n",
    "optimizer.optimizer.step_size = step_size\n",
    "p_loss, v_loss, time = eval_iterations(optimizer, datamodule, N=N, mode=\"iters\")\n",
    "key = \"ours2_lr\"\n",
    "times[key] = time[N].median().item()\n",
    "p_losses[key] = {k: v.mean().item() for k, v in p_loss.items()}\n",
    "v_losses[key] = {k: v.mean().item() for k, v in v_loss.items()}\n",
    "\n",
    "path = ours3_lr\n",
    "optimizer = load_neural_optimizer(flame, renderer, path)\n",
    "optimizer.optimizer.step_size = step_size\n",
    "p_loss, v_loss, time = eval_iterations(optimizer, datamodule, N=N, mode=\"iters\")\n",
    "key = \"ours3_lr\"\n",
    "times[key] = time[N].median().item()\n",
    "p_losses[key] = {k: v.mean().item() for k, v in p_loss.items()}\n",
    "v_losses[key] = {k: v.mean().item() for k, v in v_loss.items()}\n",
    "\n",
    "path = ours\n",
    "optimizer = load_neural_optimizer(flame, renderer, path)\n",
    "optimizer.optimizer.step_size = 0.3\n",
    "p_loss, v_loss, time = eval_iterations(optimizer, datamodule, N=N, mode=\"iters\")\n",
    "key = \"ours_03\" \n",
    "times[key] = time[N].median().item()\n",
    "p_losses[key] = {k: v.mean().item() for k, v in p_loss.items()}\n",
    "v_losses[key] = {k: v.mean().item() for k, v in v_loss.items()}\n",
    "\n",
    "path = ours\n",
    "optimizer = load_neural_optimizer(flame, renderer, path)\n",
    "optimizer.optimizer.step_size = 0.7\n",
    "p_loss, v_loss, time = eval_iterations(optimizer, datamodule, N=N, mode=\"iters\")\n",
    "key = \"ours_07\" \n",
    "times[key] = time[N].median().item()\n",
    "p_losses[key] = {k: v.mean().item() for k, v in p_loss.items()}\n",
    "v_losses[key] = {k: v.mean().item() for k, v in v_loss.items()}\n",
    "\n",
    "# path = w_single_optim\n",
    "# optimizer = load_neural_optimizer(flame, renderer, path)\n",
    "# optimizer.optimizer.step_size = step_size\n",
    "# p_loss, v_loss, time = eval_iterations(\n",
    "#     optimizer, datamodule, N=N, value=value, mode=\"iters\"\n",
    "# )\n",
    "# key = path_to_abblation(path)\n",
    "# times[key] = time[N].median().item()\n",
    "# p_losses[key] = {k: v.mean().item() for k, v in p_loss.items()}\n",
    "# v_losses[key] = {k: v.mean().item() for k, v in v_loss.items()}\n",
    "\n",
    "# path = w_multi5_optim\n",
    "# optimizer = load_neural_optimizer(flame, renderer, path)\n",
    "# optimizer.optimizer.step_size = step_size\n",
    "# p_loss, v_loss, time = eval_iterations(\n",
    "#     optimizer, datamodule, N=N, value=value, mode=\"iters\"\n",
    "# )\n",
    "# key = path_to_abblation(path)\n",
    "# times[key] = time[N].median().item()\n",
    "# p_losses[key] = {k: v.mean().item() for k, v in p_loss.items()}\n",
    "# v_losses[key] = {k: v.mean().item() for k, v in v_loss.items()}\n",
    "\n",
    "optimizer = load_icp_optimizer(flame, renderer, [\"weighting=dummy\", \"regularize=dummy\"])\n",
    "optimizer.optimizer.step_size = step_size\n",
    "p_loss, v_loss, time = eval_iterations(optimizer, datamodule, N=N)\n",
    "key = \"icp-f2f\"\n",
    "p_losses[key] = {k: v.mean().item() for k, v in p_loss.items()}\n",
    "v_losses[key] = {k: v.mean().item() for k, v in v_loss.items()}\n",
    "\n",
    "optimizer = load_icp_optimizer(\n",
    "    flame, renderer, [\"residuals=point2plane\", \"weighting=dummy\", \"regularize=dummy\"]\n",
    ")\n",
    "optimizer.optimizer.step_size = step_size\n",
    "p_loss, v_loss, time = eval_iterations(optimizer, datamodule, N=N)\n",
    "key = \"icp-p2p\"\n",
    "p_losses[key] = {k: v.mean().item() for k, v in p_loss.items()}\n",
    "v_losses[key] = {k: v.mean().item() for k, v in v_loss.items()}\n",
    "\n",
    "data = dict(p_losses=p_losses, v_losses=v_losses)\n",
    "torch.save(data, \"optimization_iterations.pth\")"
   ]
  },
  {
   "cell_type": "code",
   "execution_count": 6,
   "metadata": {},
   "outputs": [
    {
     "data": {
      "text/plain": [
       "dict_keys(['ours1_lr', 'ours2_lr', 'ours3_lr', 'ours_03', 'ours_07', 'icp-f2f', 'icp-p2p'])"
      ]
     },
     "execution_count": 6,
     "metadata": {},
     "output_type": "execute_result"
    }
   ],
   "source": [
    "data[\"p_losses\"].keys()"
   ]
  },
  {
   "cell_type": "code",
   "execution_count": 43,
   "metadata": {},
   "outputs": [],
   "source": [
    "import matplotlib.pyplot as plt\n",
    "import numpy as np\n",
    "import torch\n",
    "\n",
    "# Data dictionary\n",
    "p_losses = torch.load(\"/home/borth/GuidedResearch/optimization_iterations.pth\")\n",
    "p_losses = p_losses[\"p_losses\"]\n",
    "data = {}\n",
    "data[\"ours1_lr\"] = p_losses[\"ours1_lr\"]\n",
    "data[\"ours2_lr\"] = p_losses[\"ours2_lr\"]\n",
    "data[\"ours3_lr\"] = p_losses[\"ours3_lr\"]\n",
    "# data[\"ours_03\"] = p_losses[\"ours_03\"]\n",
    "# data[\"ours_07\"] = p_losses[\"ours_07\"]\n",
    "# data[\"ours-1\"] = p_losses[\"abblation_w_single_optim\"]\n",
    "# data[\"ours-5\"] = p_losses[\"abblation_w_multi5_optim_ckpt\"]\n",
    "# data[\"icp-geo\"] = p_losses[\"icp-p2p\"]\n",
    "# data[\"icp-geo+reg\"] = p_losses[\"icp-f2f\"]"
   ]
  },
  {
   "cell_type": "code",
   "execution_count": 40,
   "metadata": {},
   "outputs": [
    {
     "data": {
      "image/png": "[encoded data removed]",
      "text/plain": [
       "<Figure size 800x400 with 1 Axes>"
      ]
     },
     "metadata": {},
     "output_type": "display_data"
    }
   ],
   "source": [
    "# Create a figure and axis\n",
    "fig, ax = plt.subplots(figsize=(8, 4))\n",
    "# Plot each line\n",
    "for label, values in data.items():\n",
    "    x = list(values.keys())  # X axis (the steps, 0, 1, 2)\n",
    "    y = list(values.values())  # Y axis (the corresponding values)\n",
    "    ax.plot(\n",
    "        x, y, label=label, marker=\"o\", linestyle=\"-\", linewidth=1.5\n",
    "        # x, y, label=label,  linestyle=\"-\", linewidth=1\n",
    "    )  # 'marker' adds points at the data values\n",
    "\n",
    "# Add labels and title\n",
    "ax.set_xlabel(\"Optimization Step\")\n",
    "ax.set_ylabel(\"FLAME distance\")\n",
    "# Add a legend\n",
    "ax.legend()\n",
    "\n",
    "# Show the plot\n",
    "ax.set_ylim(bottom=0)  # Set minimum y-axis limit to 0\n",
    "ax.set_xlim(left=-0.2)  # Set minimum y-axis limit to 0\n",
    "ax.yaxis.grid(True)\n",
    "# Remove spines for left, right, and top\n",
    "ax.spines[\"top\"].set_visible(False)  # Hide the top spine\n",
    "ax.spines[\"right\"].set_visible(False)  # Hide the right spine\n",
    "ax.spines[\"left\"].set_visible(False)  # Hide the left spine\n",
    "# Optionally, you can keep the bottom spine visible\n",
    "ax.spines[\"bottom\"].set_visible(True)\n",
    "\n",
    "# Remove tick marks on the y-axis\n",
    "ax.tick_params(axis=\"y\", direction=\"in\", length=0)  # Set tick length to 0 to hide them\n",
    "# Customize the legend and increase the font size\n",
    "ax.legend(fontsize=\"12\", loc=\"upper right\")\n",
    "\n",
    "plt.tight_layout()  # Adjust layout to prevent overlap\n",
    "plt.show()"
   ]
  },
  {
   "cell_type": "code",
   "execution_count": 44,
   "metadata": {},
   "outputs": [
    {
     "data": {
      "image/png": "[encoded data removed]",
      "text/plain": [
       "<Figure size 1000x400 with 1 Axes>"
      ]
     },
     "metadata": {},
     "output_type": "display_data"
    }
   ],
   "source": [
    "# Filter for odd optimization steps\n",
    "# steps = [step for step in data[\"ours_03\"].keys() if step % 2 == 1]\n",
    "steps = [step for step in data[\"ours1_lr\"].keys()]\n",
    "\n",
    "# Number of methods\n",
    "n_methods = len(data)\n",
    "\n",
    "# Create the figure and axis\n",
    "fig, ax = plt.subplots(figsize=(10, 4))\n",
    "\n",
    "# Width of bars\n",
    "bar_width = 0.15\n",
    "\n",
    "# Generate positions for the bars (centered on each optimization step)\n",
    "indices = np.arange(len(steps))\n",
    "\n",
    "# Set up the color map\n",
    "colors = plt.get_cmap(\"Set2\", 7)\n",
    "# Loop through the methods and plot the bars for odd steps\n",
    "for i, (label, values) in enumerate(data.items()):\n",
    "    # Filter values for odd steps\n",
    "    y_values = [values[step] for step in steps]\n",
    "    ax.bar(indices + i * bar_width, y_values, width=bar_width, label=label, color=colors.colors[i])\n",
    "\n",
    "# Set labels and title\n",
    "ax.set_xlabel(\"Optimization Step\")\n",
    "ax.set_ylabel(\"FLAME Distance\")\n",
    "\n",
    "# Customize the x-ticks to match the odd optimization steps\n",
    "ax.set_xticks(indices + bar_width * (n_methods - 1) / 2)\n",
    "ax.set_xticklabels(steps)\n",
    "\n",
    "# Add a legend\n",
    "ax.legend()\n",
    "\n",
    "# Customize the chart appearance\n",
    "ax.spines[\"top\"].set_visible(False)\n",
    "ax.spines[\"right\"].set_visible(False)\n",
    "ax.grid(True, linestyle=\"--\", alpha=0.7)\n",
    "ax.xaxis.grid(False)\n",
    "# Show the bar chart\n",
    "plt.tight_layout()\n",
    "plt.show()"
   ]
  }
 ],
 "metadata": {
  "kernelspec": {
   "display_name": "guided",
   "language": "python",
   "name": "python3"
  },
  "language_info": {
   "codemirror_mode": {
    "name": "ipython",
    "version": 3
   },
   "file_extension": ".py",
   "mimetype": "text/x-python",
   "name": "python",
   "nbconvert_exporter": "python",
   "pygments_lexer": "ipython3",
   "version": "3.10.14"
  }
 },
 "nbformat": 4,
 "nbformat_minor": 2
}
