{
 "cells": [
  {
   "cell_type": "code",
   "execution_count": null,
   "metadata": {},
   "outputs": [],
   "source": [
    "import open3d as o3d\n",
    "import numpy as np\n",
    "\n",
    "path = \"/Users/robinborth/Code/GuidedResearch/logs/optimize/runs/2024-04-26_08-51-24\"\n",
    "i = 50\n",
    "\n",
    "def load_pcd(path, color):\n",
    "    points = np.load(path)\n",
    "    pcd = o3d.geometry.PointCloud()\n",
    "    pcd.points = o3d.utility.Vector3dVector(points)\n",
    "    color = [np.array(color, dtype=np.uint8)] * points.shape[0]\n",
    "    pcd.colors =  o3d.utility.Vector3dVector(np.stack(color))\n",
    "    return pcd\n",
    "\n",
    "vertices = load_pcd(f\"{path}/pcd_vertices/000_{i:05}.npz\", [0, 0, 255])\n",
    "points = load_pcd(f\"{path}/pcd_points/000_{i:05}.npz\", [255, 0, 0])\n",
    "lm3d_vertices = load_pcd(f\"{path}/lm3d_vertices/000_{i:05}.npz\", [0, 0, 255])\n",
    "lm3d_points = load_pcd(f\"{path}/lm3d_points/000_{i:05}.npz\", [255, 0, 0])\n",
    "\n",
    "o3d.visualization.draw_plotly([lm3d_vertices, lm3d_points])"
   ]
  }
 ],
 "metadata": {
  "kernelspec": {
   "display_name": "guided",
   "language": "python",
   "name": "python3"
  },
  "language_info": {
   "codemirror_mode": {
    "name": "ipython",
    "version": 3
   },
   "file_extension": ".py",
   "mimetype": "text/x-python",
   "name": "python",
   "nbconvert_exporter": "python",
   "pygments_lexer": "ipython3",
   "version": "3.10.14"
  }
 },
 "nbformat": 4,
 "nbformat_minor": 2
}
