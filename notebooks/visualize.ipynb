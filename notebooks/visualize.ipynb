{
 "cells": [
  {
   "cell_type": "code",
   "execution_count": null,
   "metadata": {},
   "outputs": [],
   "source": [
    "import open3d as o3d\n",
    "from lib.utils.visualize import load_pcd\n",
    "\n",
    "path = \"/Users/robinborth/Code/GuidedResearch/logs/optimize/runs/2024-05-08_16-09-13\"\n",
    "i = 170\n",
    "\n",
    "render_point = load_pcd(f\"{path}/render_point/000_{i:05}.npy\", [0, 0, 255])\n",
    "batch_point = load_pcd(f\"{path}/batch_point/000_{i:05}.npy\", [255, 0, 0])\n",
    "# lm3d_vertices = load_pcd(f\"{path}/lm3d_vertices/000_{i:05}.npz\", [0, 0, 255])\n",
    "# lm3d_points = load_pcd(f\"{path}/lm3d_points/000_{i:05}.npz\", [255, 0, 0])\n",
    "\n",
    "o3d.visualization.draw_plotly([render_point, batch_point])"
   ]
  },
  {
   "cell_type": "code",
   "execution_count": null,
   "metadata": {},
   "outputs": [],
   "source": [
    "import numpy as np\n",
    "np.asarray(render_point.points)"
   ]
  },
  {
   "cell_type": "code",
   "execution_count": null,
   "metadata": {},
   "outputs": [],
   "source": [
    "import open3d as o3d\n",
    "from lib.utils.visualize import load_pcd\n",
    "\n",
    "\n",
    "path = \"temp/out.npy\"\n",
    "o3d.visualization.draw_plotly([load_pcd(path)])"
   ]
  },
  {
   "cell_type": "code",
   "execution_count": null,
   "metadata": {},
   "outputs": [],
   "source": [
    "import open3d as o3d\n",
    "from lib.utils.visualize import load_pcd\n",
    "\n",
    "\n",
    "path = \"temp/out1.npy\"\n",
    "o3d.visualization.draw_plotly([load_pcd(path)])"
   ]
  }
 ],
 "metadata": {
  "kernelspec": {
   "display_name": "guided",
   "language": "python",
   "name": "python3"
  },
  "language_info": {
   "codemirror_mode": {
    "name": "ipython",
    "version": 3
   },
   "file_extension": ".py",
   "mimetype": "text/x-python",
   "name": "python",
   "nbconvert_exporter": "python",
   "pygments_lexer": "ipython3",
   "version": "3.10.14"
  }
 },
 "nbformat": 4,
 "nbformat_minor": 2
}
